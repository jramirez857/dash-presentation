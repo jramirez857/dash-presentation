{
 "cells": [
  {
   "cell_type": "markdown",
   "metadata": {},
   "source": [
    "# Intro to Dash: Visualizing workout data with reactive plots\n",
    "\n",
    "Dash is a low code web application framework for rapidly building data apps in Python. It is written on top of Plotly and React. It is a great tool for building data driven web apps."
   ]
  },
  {
   "cell_type": "code",
   "execution_count": 1,
   "metadata": {},
   "outputs": [],
   "source": [
    "import pandas as pd\n",
    "\n",
    "from csv_generator import generate_csv\n",
    "\n",
    "generate_csv()\n",
    "\n",
    "\"\"\"Creates a dataframe of workouts from peloton workouts csv. Can be downloaded from \n",
    "https://members.onepeloton.com/profile/workouts\n",
    "\"\"\"\n",
    "df = pd.read_csv('workouts.csv')\n"
   ]
  },
  {
   "cell_type": "markdown",
   "metadata": {},
   "source": [
    "## Step 1: Import our dependencies\n",
    "\n",
    "Dash makes use of plotly for its charts. We are using dash-bootstrap-components here for our html components and styling. We are importing dash-core-components (dcc) for dash components such as dropdowns and graphs. The dash html components provide an easy way for us to create html components. jupyter dash is used for developing within jupyter notebooks. Finally, we are importing Input and Output and state from dash.dependencies. These are used for callbacks.\n",
    "\n",
    "**Useful documentation links:**\n",
    "\n",
    "- Plotly: [make_subplots](https://plotly.com/python-api-reference/generated/plotly.subplots.make_subplots.html)\n",
    "- Dash Core Components: [dash.dcc](https://dash.plotly.com/dash-core-components)\n",
    "- Dash HTML Components: [dash.html](https://dash.plotly.com/dash-html-components)\n",
    "- Jupyter Dash: [jupyter dash](https://dash.plotly.com/jupyter-dash)"
   ]
  },
  {
   "cell_type": "code",
   "execution_count": 13,
   "metadata": {},
   "outputs": [],
   "source": [
    "import plotly.graph_objects as go\n",
    "import plotly.express as px\n",
    "import dash_bootstrap_components as dbc\n",
    "\n",
    "from plotly.subplots import make_subplots\n",
    "from dash import dcc, html\n",
    "from jupyter_dash import JupyterDash\n",
    "from dash.dependencies import Input, Output, State"
   ]
  },
  {
   "cell_type": "markdown",
   "metadata": {},
   "source": [
    "## Step 2: Filter and group data"
   ]
  },
  {
   "cell_type": "code",
   "execution_count": 7,
   "metadata": {},
   "outputs": [
    {
     "data": {
      "text/html": [
       "<div>\n",
       "<style scoped>\n",
       "    .dataframe tbody tr th:only-of-type {\n",
       "        vertical-align: middle;\n",
       "    }\n",
       "\n",
       "    .dataframe tbody tr th {\n",
       "        vertical-align: top;\n",
       "    }\n",
       "\n",
       "    .dataframe thead th {\n",
       "        text-align: right;\n",
       "    }\n",
       "</style>\n",
       "<table border=\"1\" class=\"dataframe\">\n",
       "  <thead>\n",
       "    <tr style=\"text-align: right;\">\n",
       "      <th></th>\n",
       "      <th>Workout Timestamp</th>\n",
       "      <th>Calories Burned</th>\n",
       "      <th>Total Output</th>\n",
       "    </tr>\n",
       "  </thead>\n",
       "  <tbody>\n",
       "    <tr>\n",
       "      <th>0</th>\n",
       "      <td>2021-01-03</td>\n",
       "      <td>487.00</td>\n",
       "      <td>415.63</td>\n",
       "    </tr>\n",
       "    <tr>\n",
       "      <th>1</th>\n",
       "      <td>2021-01-10</td>\n",
       "      <td>1594.00</td>\n",
       "      <td>469.22</td>\n",
       "    </tr>\n",
       "    <tr>\n",
       "      <th>2</th>\n",
       "      <td>2021-01-17</td>\n",
       "      <td>1147.00</td>\n",
       "      <td>658.62</td>\n",
       "    </tr>\n",
       "    <tr>\n",
       "      <th>3</th>\n",
       "      <td>2021-01-24</td>\n",
       "      <td>848.10</td>\n",
       "      <td>557.16</td>\n",
       "    </tr>\n",
       "    <tr>\n",
       "      <th>4</th>\n",
       "      <td>2021-01-31</td>\n",
       "      <td>989.00</td>\n",
       "      <td>248.85</td>\n",
       "    </tr>\n",
       "    <tr>\n",
       "      <th>...</th>\n",
       "      <td>...</td>\n",
       "      <td>...</td>\n",
       "      <td>...</td>\n",
       "    </tr>\n",
       "    <tr>\n",
       "      <th>57</th>\n",
       "      <td>2022-02-06</td>\n",
       "      <td>0.00</td>\n",
       "      <td>0.00</td>\n",
       "    </tr>\n",
       "    <tr>\n",
       "      <th>58</th>\n",
       "      <td>2022-02-13</td>\n",
       "      <td>184.00</td>\n",
       "      <td>147.19</td>\n",
       "    </tr>\n",
       "    <tr>\n",
       "      <th>59</th>\n",
       "      <td>2022-02-20</td>\n",
       "      <td>875.61</td>\n",
       "      <td>316.24</td>\n",
       "    </tr>\n",
       "    <tr>\n",
       "      <th>60</th>\n",
       "      <td>2022-02-27</td>\n",
       "      <td>582.27</td>\n",
       "      <td>468.32</td>\n",
       "    </tr>\n",
       "    <tr>\n",
       "      <th>61</th>\n",
       "      <td>2022-03-06</td>\n",
       "      <td>663.00</td>\n",
       "      <td>339.49</td>\n",
       "    </tr>\n",
       "  </tbody>\n",
       "</table>\n",
       "<p>62 rows × 3 columns</p>\n",
       "</div>"
      ],
      "text/plain": [
       "   Workout Timestamp  Calories Burned  Total Output\n",
       "0         2021-01-03           487.00        415.63\n",
       "1         2021-01-10          1594.00        469.22\n",
       "2         2021-01-17          1147.00        658.62\n",
       "3         2021-01-24           848.10        557.16\n",
       "4         2021-01-31           989.00        248.85\n",
       "..               ...              ...           ...\n",
       "57        2022-02-06             0.00          0.00\n",
       "58        2022-02-13           184.00        147.19\n",
       "59        2022-02-20           875.61        316.24\n",
       "60        2022-02-27           582.27        468.32\n",
       "61        2022-03-06           663.00        339.49\n",
       "\n",
       "[62 rows x 3 columns]"
      ]
     },
     "execution_count": 7,
     "metadata": {},
     "output_type": "execute_result"
    }
   ],
   "source": [
    "ts ='Workout Timestamp'\n",
    "def group_data_by_timestamp(start_date = df[ts].min(), end_date = df[ts].max() , freq: str ='W') -> pd.DataFrame:\n",
    "    \"\"\"\n",
    "    Filters dataframe by date range and groups by frequency of week by default.\n",
    "    Returns a dataframe with Calories Burned and Total Output summed by the chosen frequency.\n",
    "\n",
    "    Parameters\n",
    "    ----------\n",
    "        start_date : date The start date of the range\n",
    "        end_date : date The end date of the range\n",
    "        freq : str The frequency of the group. Default is weekly.\n",
    "\n",
    "    Returns\n",
    "    -------\n",
    "        df : pd.DataFrame The dataframe with the summed columns.\n",
    "\n",
    "    \"\"\"\n",
    "    dff = df.loc[(start_date <= df[ts]) & (df[ts] <= end_date)]\n",
    "\n",
    "    for tz in ['EST', 'EDT', '-04', '-05']:\n",
    "        dff.loc[:, ts]= dff[ts].str.replace(f\"\\({tz}\\)\", '', regex=True)\n",
    "\n",
    "    dff.loc[:,ts] = pd.to_datetime(dff[ts], format='%Y-%m-%d %H:%M', errors='coerce')\n",
    "    return dff.groupby(pd.Grouper(key=ts, freq=freq))[['Calories Burned', 'Total Output']].agg('sum').reset_index()\n",
    "\n",
    "group_data_by_timestamp()"
   ]
  },
  {
   "cell_type": "markdown",
   "metadata": {},
   "source": [
    "## Step 3: Create our plot\n",
    "\n",
    "Now that we have our data grouped as we'd like to see it, lets plot it using plotly. Since Dash is built on top of plotly, we will be able to use this figure in our web app later.\n"
   ]
  },
  {
   "cell_type": "code",
   "execution_count": 8,
   "metadata": {},
   "outputs": [
    {
     "data": {
      "application/vnd.plotly.v1+json": {
       "config": {
        "plotlyServerURL": "https://plot.ly"
       },
       "data": [
        {
         "marker": {
          "color": "MediumPurple",
          "size": 10
         },
         "name": "Total Calories",
         "type": "scatter",
         "x": [
          "2021-01-03T00:00:00",
          "2021-01-10T00:00:00",
          "2021-01-17T00:00:00",
          "2021-01-24T00:00:00",
          "2021-01-31T00:00:00",
          "2021-02-07T00:00:00",
          "2021-02-14T00:00:00",
          "2021-02-21T00:00:00",
          "2021-02-28T00:00:00",
          "2021-03-07T00:00:00",
          "2021-03-14T00:00:00",
          "2021-03-21T00:00:00",
          "2021-03-28T00:00:00",
          "2021-04-04T00:00:00",
          "2021-04-11T00:00:00",
          "2021-04-18T00:00:00",
          "2021-04-25T00:00:00",
          "2021-05-02T00:00:00",
          "2021-05-09T00:00:00",
          "2021-05-16T00:00:00",
          "2021-05-23T00:00:00",
          "2021-05-30T00:00:00",
          "2021-06-06T00:00:00",
          "2021-06-13T00:00:00",
          "2021-06-20T00:00:00",
          "2021-06-27T00:00:00",
          "2021-07-04T00:00:00",
          "2021-07-11T00:00:00",
          "2021-07-18T00:00:00",
          "2021-07-25T00:00:00",
          "2021-08-01T00:00:00",
          "2021-08-08T00:00:00",
          "2021-08-15T00:00:00",
          "2021-08-22T00:00:00",
          "2021-08-29T00:00:00",
          "2021-09-05T00:00:00",
          "2021-09-12T00:00:00",
          "2021-09-19T00:00:00",
          "2021-09-26T00:00:00",
          "2021-10-03T00:00:00",
          "2021-10-10T00:00:00",
          "2021-10-17T00:00:00",
          "2021-10-24T00:00:00",
          "2021-10-31T00:00:00",
          "2021-11-07T00:00:00",
          "2021-11-14T00:00:00",
          "2021-11-21T00:00:00",
          "2021-11-28T00:00:00",
          "2021-12-05T00:00:00",
          "2021-12-12T00:00:00",
          "2021-12-19T00:00:00",
          "2021-12-26T00:00:00",
          "2022-01-02T00:00:00",
          "2022-01-09T00:00:00",
          "2022-01-16T00:00:00",
          "2022-01-23T00:00:00",
          "2022-01-30T00:00:00",
          "2022-02-06T00:00:00",
          "2022-02-13T00:00:00",
          "2022-02-20T00:00:00",
          "2022-02-27T00:00:00",
          "2022-03-06T00:00:00"
         ],
         "xaxis": "x",
         "y": [
          487,
          1594,
          1147,
          848.1,
          989,
          185,
          1585,
          208,
          1570,
          831,
          1306.53,
          1784.06,
          993.63,
          1280,
          1148,
          353,
          668,
          1271.77,
          1040,
          759.29,
          374,
          862,
          606.39,
          764,
          2171.65,
          1145,
          1415.27,
          1762.81,
          864.03,
          1220.1599999999999,
          1002,
          1012,
          821.01,
          1436.62,
          181,
          1659.13,
          1523,
          766.54,
          1013.3199999999999,
          1332,
          571,
          1344,
          0,
          595,
          1088.58,
          1524,
          260,
          464,
          1072,
          247.22,
          1579.06,
          1017,
          1640,
          775.2,
          1505.93,
          0,
          1816,
          0,
          184,
          875.61,
          582.27,
          663
         ],
         "yaxis": "y"
        },
        {
         "marker": {
          "color": "MediumSeaGreen",
          "size": 10
         },
         "name": "Total Output",
         "type": "scatter",
         "x": [
          "2021-01-03T00:00:00",
          "2021-01-10T00:00:00",
          "2021-01-17T00:00:00",
          "2021-01-24T00:00:00",
          "2021-01-31T00:00:00",
          "2021-02-07T00:00:00",
          "2021-02-14T00:00:00",
          "2021-02-21T00:00:00",
          "2021-02-28T00:00:00",
          "2021-03-07T00:00:00",
          "2021-03-14T00:00:00",
          "2021-03-21T00:00:00",
          "2021-03-28T00:00:00",
          "2021-04-04T00:00:00",
          "2021-04-11T00:00:00",
          "2021-04-18T00:00:00",
          "2021-04-25T00:00:00",
          "2021-05-02T00:00:00",
          "2021-05-09T00:00:00",
          "2021-05-16T00:00:00",
          "2021-05-23T00:00:00",
          "2021-05-30T00:00:00",
          "2021-06-06T00:00:00",
          "2021-06-13T00:00:00",
          "2021-06-20T00:00:00",
          "2021-06-27T00:00:00",
          "2021-07-04T00:00:00",
          "2021-07-11T00:00:00",
          "2021-07-18T00:00:00",
          "2021-07-25T00:00:00",
          "2021-08-01T00:00:00",
          "2021-08-08T00:00:00",
          "2021-08-15T00:00:00",
          "2021-08-22T00:00:00",
          "2021-08-29T00:00:00",
          "2021-09-05T00:00:00",
          "2021-09-12T00:00:00",
          "2021-09-19T00:00:00",
          "2021-09-26T00:00:00",
          "2021-10-03T00:00:00",
          "2021-10-10T00:00:00",
          "2021-10-17T00:00:00",
          "2021-10-24T00:00:00",
          "2021-10-31T00:00:00",
          "2021-11-07T00:00:00",
          "2021-11-14T00:00:00",
          "2021-11-21T00:00:00",
          "2021-11-28T00:00:00",
          "2021-12-05T00:00:00",
          "2021-12-12T00:00:00",
          "2021-12-19T00:00:00",
          "2021-12-26T00:00:00",
          "2022-01-02T00:00:00",
          "2022-01-09T00:00:00",
          "2022-01-16T00:00:00",
          "2022-01-23T00:00:00",
          "2022-01-30T00:00:00",
          "2022-02-06T00:00:00",
          "2022-02-13T00:00:00",
          "2022-02-20T00:00:00",
          "2022-02-27T00:00:00",
          "2022-03-06T00:00:00"
         ],
         "xaxis": "x",
         "y": [
          415.63,
          469.22,
          658.62,
          557.16,
          248.85,
          250.72,
          1101.88,
          290.76,
          516.61,
          853.3,
          675.8100000000001,
          1100.93,
          474.46000000000004,
          1030.59,
          217.04999999999998,
          226.95,
          241.60000000000002,
          706.53,
          402.88,
          417.99,
          304.58,
          751.5,
          91.37,
          282.67,
          969.25,
          505.14,
          876.53,
          1108.58,
          317.5,
          634.72,
          365.24,
          784.52,
          325.73,
          860.9300000000001,
          13.77,
          401.58,
          491.18,
          890.27,
          893.64,
          949.82,
          179.94,
          271.22,
          0,
          123.83,
          753.33,
          497.24,
          26.89,
          478.83000000000004,
          517.85,
          193.99,
          828.09,
          164.47,
          1143.67,
          318.46000000000004,
          932.72,
          0,
          920.37,
          0,
          147.19,
          316.24,
          468.32,
          339.49
         ],
         "yaxis": "y2"
        }
       ],
       "layout": {
        "template": {
         "data": {
          "bar": [
           {
            "error_x": {
             "color": "#2a3f5f"
            },
            "error_y": {
             "color": "#2a3f5f"
            },
            "marker": {
             "line": {
              "color": "#E5ECF6",
              "width": 0.5
             },
             "pattern": {
              "fillmode": "overlay",
              "size": 10,
              "solidity": 0.2
             }
            },
            "type": "bar"
           }
          ],
          "barpolar": [
           {
            "marker": {
             "line": {
              "color": "#E5ECF6",
              "width": 0.5
             },
             "pattern": {
              "fillmode": "overlay",
              "size": 10,
              "solidity": 0.2
             }
            },
            "type": "barpolar"
           }
          ],
          "carpet": [
           {
            "aaxis": {
             "endlinecolor": "#2a3f5f",
             "gridcolor": "white",
             "linecolor": "white",
             "minorgridcolor": "white",
             "startlinecolor": "#2a3f5f"
            },
            "baxis": {
             "endlinecolor": "#2a3f5f",
             "gridcolor": "white",
             "linecolor": "white",
             "minorgridcolor": "white",
             "startlinecolor": "#2a3f5f"
            },
            "type": "carpet"
           }
          ],
          "choropleth": [
           {
            "colorbar": {
             "outlinewidth": 0,
             "ticks": ""
            },
            "type": "choropleth"
           }
          ],
          "contour": [
           {
            "colorbar": {
             "outlinewidth": 0,
             "ticks": ""
            },
            "colorscale": [
             [
              0,
              "#0d0887"
             ],
             [
              0.1111111111111111,
              "#46039f"
             ],
             [
              0.2222222222222222,
              "#7201a8"
             ],
             [
              0.3333333333333333,
              "#9c179e"
             ],
             [
              0.4444444444444444,
              "#bd3786"
             ],
             [
              0.5555555555555556,
              "#d8576b"
             ],
             [
              0.6666666666666666,
              "#ed7953"
             ],
             [
              0.7777777777777778,
              "#fb9f3a"
             ],
             [
              0.8888888888888888,
              "#fdca26"
             ],
             [
              1,
              "#f0f921"
             ]
            ],
            "type": "contour"
           }
          ],
          "contourcarpet": [
           {
            "colorbar": {
             "outlinewidth": 0,
             "ticks": ""
            },
            "type": "contourcarpet"
           }
          ],
          "heatmap": [
           {
            "colorbar": {
             "outlinewidth": 0,
             "ticks": ""
            },
            "colorscale": [
             [
              0,
              "#0d0887"
             ],
             [
              0.1111111111111111,
              "#46039f"
             ],
             [
              0.2222222222222222,
              "#7201a8"
             ],
             [
              0.3333333333333333,
              "#9c179e"
             ],
             [
              0.4444444444444444,
              "#bd3786"
             ],
             [
              0.5555555555555556,
              "#d8576b"
             ],
             [
              0.6666666666666666,
              "#ed7953"
             ],
             [
              0.7777777777777778,
              "#fb9f3a"
             ],
             [
              0.8888888888888888,
              "#fdca26"
             ],
             [
              1,
              "#f0f921"
             ]
            ],
            "type": "heatmap"
           }
          ],
          "heatmapgl": [
           {
            "colorbar": {
             "outlinewidth": 0,
             "ticks": ""
            },
            "colorscale": [
             [
              0,
              "#0d0887"
             ],
             [
              0.1111111111111111,
              "#46039f"
             ],
             [
              0.2222222222222222,
              "#7201a8"
             ],
             [
              0.3333333333333333,
              "#9c179e"
             ],
             [
              0.4444444444444444,
              "#bd3786"
             ],
             [
              0.5555555555555556,
              "#d8576b"
             ],
             [
              0.6666666666666666,
              "#ed7953"
             ],
             [
              0.7777777777777778,
              "#fb9f3a"
             ],
             [
              0.8888888888888888,
              "#fdca26"
             ],
             [
              1,
              "#f0f921"
             ]
            ],
            "type": "heatmapgl"
           }
          ],
          "histogram": [
           {
            "marker": {
             "pattern": {
              "fillmode": "overlay",
              "size": 10,
              "solidity": 0.2
             }
            },
            "type": "histogram"
           }
          ],
          "histogram2d": [
           {
            "colorbar": {
             "outlinewidth": 0,
             "ticks": ""
            },
            "colorscale": [
             [
              0,
              "#0d0887"
             ],
             [
              0.1111111111111111,
              "#46039f"
             ],
             [
              0.2222222222222222,
              "#7201a8"
             ],
             [
              0.3333333333333333,
              "#9c179e"
             ],
             [
              0.4444444444444444,
              "#bd3786"
             ],
             [
              0.5555555555555556,
              "#d8576b"
             ],
             [
              0.6666666666666666,
              "#ed7953"
             ],
             [
              0.7777777777777778,
              "#fb9f3a"
             ],
             [
              0.8888888888888888,
              "#fdca26"
             ],
             [
              1,
              "#f0f921"
             ]
            ],
            "type": "histogram2d"
           }
          ],
          "histogram2dcontour": [
           {
            "colorbar": {
             "outlinewidth": 0,
             "ticks": ""
            },
            "colorscale": [
             [
              0,
              "#0d0887"
             ],
             [
              0.1111111111111111,
              "#46039f"
             ],
             [
              0.2222222222222222,
              "#7201a8"
             ],
             [
              0.3333333333333333,
              "#9c179e"
             ],
             [
              0.4444444444444444,
              "#bd3786"
             ],
             [
              0.5555555555555556,
              "#d8576b"
             ],
             [
              0.6666666666666666,
              "#ed7953"
             ],
             [
              0.7777777777777778,
              "#fb9f3a"
             ],
             [
              0.8888888888888888,
              "#fdca26"
             ],
             [
              1,
              "#f0f921"
             ]
            ],
            "type": "histogram2dcontour"
           }
          ],
          "mesh3d": [
           {
            "colorbar": {
             "outlinewidth": 0,
             "ticks": ""
            },
            "type": "mesh3d"
           }
          ],
          "parcoords": [
           {
            "line": {
             "colorbar": {
              "outlinewidth": 0,
              "ticks": ""
             }
            },
            "type": "parcoords"
           }
          ],
          "pie": [
           {
            "automargin": true,
            "type": "pie"
           }
          ],
          "scatter": [
           {
            "marker": {
             "colorbar": {
              "outlinewidth": 0,
              "ticks": ""
             }
            },
            "type": "scatter"
           }
          ],
          "scatter3d": [
           {
            "line": {
             "colorbar": {
              "outlinewidth": 0,
              "ticks": ""
             }
            },
            "marker": {
             "colorbar": {
              "outlinewidth": 0,
              "ticks": ""
             }
            },
            "type": "scatter3d"
           }
          ],
          "scattercarpet": [
           {
            "marker": {
             "colorbar": {
              "outlinewidth": 0,
              "ticks": ""
             }
            },
            "type": "scattercarpet"
           }
          ],
          "scattergeo": [
           {
            "marker": {
             "colorbar": {
              "outlinewidth": 0,
              "ticks": ""
             }
            },
            "type": "scattergeo"
           }
          ],
          "scattergl": [
           {
            "marker": {
             "colorbar": {
              "outlinewidth": 0,
              "ticks": ""
             }
            },
            "type": "scattergl"
           }
          ],
          "scattermapbox": [
           {
            "marker": {
             "colorbar": {
              "outlinewidth": 0,
              "ticks": ""
             }
            },
            "type": "scattermapbox"
           }
          ],
          "scatterpolar": [
           {
            "marker": {
             "colorbar": {
              "outlinewidth": 0,
              "ticks": ""
             }
            },
            "type": "scatterpolar"
           }
          ],
          "scatterpolargl": [
           {
            "marker": {
             "colorbar": {
              "outlinewidth": 0,
              "ticks": ""
             }
            },
            "type": "scatterpolargl"
           }
          ],
          "scatterternary": [
           {
            "marker": {
             "colorbar": {
              "outlinewidth": 0,
              "ticks": ""
             }
            },
            "type": "scatterternary"
           }
          ],
          "surface": [
           {
            "colorbar": {
             "outlinewidth": 0,
             "ticks": ""
            },
            "colorscale": [
             [
              0,
              "#0d0887"
             ],
             [
              0.1111111111111111,
              "#46039f"
             ],
             [
              0.2222222222222222,
              "#7201a8"
             ],
             [
              0.3333333333333333,
              "#9c179e"
             ],
             [
              0.4444444444444444,
              "#bd3786"
             ],
             [
              0.5555555555555556,
              "#d8576b"
             ],
             [
              0.6666666666666666,
              "#ed7953"
             ],
             [
              0.7777777777777778,
              "#fb9f3a"
             ],
             [
              0.8888888888888888,
              "#fdca26"
             ],
             [
              1,
              "#f0f921"
             ]
            ],
            "type": "surface"
           }
          ],
          "table": [
           {
            "cells": {
             "fill": {
              "color": "#EBF0F8"
             },
             "line": {
              "color": "white"
             }
            },
            "header": {
             "fill": {
              "color": "#C8D4E3"
             },
             "line": {
              "color": "white"
             }
            },
            "type": "table"
           }
          ]
         },
         "layout": {
          "annotationdefaults": {
           "arrowcolor": "#2a3f5f",
           "arrowhead": 0,
           "arrowwidth": 1
          },
          "autotypenumbers": "strict",
          "coloraxis": {
           "colorbar": {
            "outlinewidth": 0,
            "ticks": ""
           }
          },
          "colorscale": {
           "diverging": [
            [
             0,
             "#8e0152"
            ],
            [
             0.1,
             "#c51b7d"
            ],
            [
             0.2,
             "#de77ae"
            ],
            [
             0.3,
             "#f1b6da"
            ],
            [
             0.4,
             "#fde0ef"
            ],
            [
             0.5,
             "#f7f7f7"
            ],
            [
             0.6,
             "#e6f5d0"
            ],
            [
             0.7,
             "#b8e186"
            ],
            [
             0.8,
             "#7fbc41"
            ],
            [
             0.9,
             "#4d9221"
            ],
            [
             1,
             "#276419"
            ]
           ],
           "sequential": [
            [
             0,
             "#0d0887"
            ],
            [
             0.1111111111111111,
             "#46039f"
            ],
            [
             0.2222222222222222,
             "#7201a8"
            ],
            [
             0.3333333333333333,
             "#9c179e"
            ],
            [
             0.4444444444444444,
             "#bd3786"
            ],
            [
             0.5555555555555556,
             "#d8576b"
            ],
            [
             0.6666666666666666,
             "#ed7953"
            ],
            [
             0.7777777777777778,
             "#fb9f3a"
            ],
            [
             0.8888888888888888,
             "#fdca26"
            ],
            [
             1,
             "#f0f921"
            ]
           ],
           "sequentialminus": [
            [
             0,
             "#0d0887"
            ],
            [
             0.1111111111111111,
             "#46039f"
            ],
            [
             0.2222222222222222,
             "#7201a8"
            ],
            [
             0.3333333333333333,
             "#9c179e"
            ],
            [
             0.4444444444444444,
             "#bd3786"
            ],
            [
             0.5555555555555556,
             "#d8576b"
            ],
            [
             0.6666666666666666,
             "#ed7953"
            ],
            [
             0.7777777777777778,
             "#fb9f3a"
            ],
            [
             0.8888888888888888,
             "#fdca26"
            ],
            [
             1,
             "#f0f921"
            ]
           ]
          },
          "colorway": [
           "#636efa",
           "#EF553B",
           "#00cc96",
           "#ab63fa",
           "#FFA15A",
           "#19d3f3",
           "#FF6692",
           "#B6E880",
           "#FF97FF",
           "#FECB52"
          ],
          "font": {
           "color": "#2a3f5f"
          },
          "geo": {
           "bgcolor": "white",
           "lakecolor": "white",
           "landcolor": "#E5ECF6",
           "showlakes": true,
           "showland": true,
           "subunitcolor": "white"
          },
          "hoverlabel": {
           "align": "left"
          },
          "hovermode": "closest",
          "mapbox": {
           "style": "light"
          },
          "paper_bgcolor": "white",
          "plot_bgcolor": "#E5ECF6",
          "polar": {
           "angularaxis": {
            "gridcolor": "white",
            "linecolor": "white",
            "ticks": ""
           },
           "bgcolor": "#E5ECF6",
           "radialaxis": {
            "gridcolor": "white",
            "linecolor": "white",
            "ticks": ""
           }
          },
          "scene": {
           "xaxis": {
            "backgroundcolor": "#E5ECF6",
            "gridcolor": "white",
            "gridwidth": 2,
            "linecolor": "white",
            "showbackground": true,
            "ticks": "",
            "zerolinecolor": "white"
           },
           "yaxis": {
            "backgroundcolor": "#E5ECF6",
            "gridcolor": "white",
            "gridwidth": 2,
            "linecolor": "white",
            "showbackground": true,
            "ticks": "",
            "zerolinecolor": "white"
           },
           "zaxis": {
            "backgroundcolor": "#E5ECF6",
            "gridcolor": "white",
            "gridwidth": 2,
            "linecolor": "white",
            "showbackground": true,
            "ticks": "",
            "zerolinecolor": "white"
           }
          },
          "shapedefaults": {
           "line": {
            "color": "#2a3f5f"
           }
          },
          "ternary": {
           "aaxis": {
            "gridcolor": "white",
            "linecolor": "white",
            "ticks": ""
           },
           "baxis": {
            "gridcolor": "white",
            "linecolor": "white",
            "ticks": ""
           },
           "bgcolor": "#E5ECF6",
           "caxis": {
            "gridcolor": "white",
            "linecolor": "white",
            "ticks": ""
           }
          },
          "title": {
           "x": 0.05
          },
          "xaxis": {
           "automargin": true,
           "gridcolor": "white",
           "linecolor": "white",
           "ticks": "",
           "title": {
            "standoff": 15
           },
           "zerolinecolor": "white",
           "zerolinewidth": 2
          },
          "yaxis": {
           "automargin": true,
           "gridcolor": "white",
           "linecolor": "white",
           "ticks": "",
           "title": {
            "standoff": 15
           },
           "zerolinecolor": "white",
           "zerolinewidth": 2
          }
         }
        },
        "title": {
         "text": "Calories and Total Output per Week",
         "x": 0.5
        },
        "xaxis": {
         "anchor": "y",
         "domain": [
          0,
          0.94
         ],
         "title": {
          "text": "Week"
         }
        },
        "yaxis": {
         "anchor": "x",
         "domain": [
          0,
          1
         ],
         "title": {
          "text": "Calories Burned"
         }
        },
        "yaxis2": {
         "anchor": "x",
         "overlaying": "y",
         "side": "right",
         "title": {
          "text": "Total Output"
         }
        }
       }
      }
     },
     "metadata": {},
     "output_type": "display_data"
    }
   ],
   "source": [
    "def create_timeseries_figure(df: pd.DataFrame, frequency = \"W\") -> go.Figure:\n",
    "    \"\"\"\n",
    "    Creates a timeseries figure with two subplots. The first subplot graphs \n",
    "    the Total Output for the week. The second subplot graphs the Calories Burned \n",
    "    for the week.\n",
    "\n",
    "    Parameters\n",
    "    ----------\n",
    "        df : pd.DataFrame The dataframe to be plotted.\n",
    "        frequency : str The frequency of the group. Default is weekly.\n",
    "    \n",
    "    Returns\n",
    "    -------\n",
    "        go.Figure: The figure to be plotted.\n",
    "    \"\"\"\n",
    "    switcher = {\n",
    "        'D': 'Day',\n",
    "        'W': 'Week',\n",
    "        'M': 'Month'\n",
    "    }\n",
    "    freq = switcher.get(frequency, 'Week')\n",
    "    line = make_subplots(specs=[[{\"secondary_y\": True}]])\n",
    "    line.add_trace(go.Scatter(x=df['Workout Timestamp'], y=df['Calories Burned'],\n",
    "                                marker=dict(size=10, color='MediumPurple'),\n",
    "                                name='Total Calories'\n",
    "                            ),\n",
    "                            secondary_y=False\n",
    "    )\n",
    "    line.add_trace(go.Scatter(x=df['Workout Timestamp'], y=df['Total Output'],\n",
    "                                marker=dict(size=10, color='MediumSeaGreen'),\n",
    "                                name='Total Output'\n",
    "                            ),\n",
    "                    secondary_y=True\n",
    "    )\n",
    "\n",
    "    line.update_layout(\n",
    "        title=f\"Calories and Total Output per {freq}\",\n",
    "        title_x=0.5,\n",
    "        yaxis_title=\"Calories Burned\",\n",
    "    )\n",
    "\n",
    "    line.update_yaxes(title_text=\"Total Output\", secondary_y=True)\n",
    "    line.update_yaxes(title_text=\"Calories Burned\", secondary_y=False)\n",
    "    line.update_xaxes(title=f\"{freq}\")\n",
    "    return line\n",
    "create_timeseries_figure(group_data_by_timestamp())"
   ]
  },
  {
   "cell_type": "markdown",
   "metadata": {},
   "source": [
    "## Step 4: Add our plot to our dashboard"
   ]
  },
  {
   "cell_type": "markdown",
   "metadata": {},
   "source": [
    "We now have our data and our plot. We are ready to start building our dashboard. Below we will create the layout for the html to display the plot in.\n",
    "\n",
    "Notice we are using the dash html components to create the layout, dash core components (dcc) for interactive elements (datepicker and graph) and dash bootstrap components (dbc) for styling."
   ]
  },
  {
   "cell_type": "markdown",
   "metadata": {},
   "source": [
    "![callback-graph](callback_diagram.png)"
   ]
  },
  {
   "cell_type": "code",
   "execution_count": 11,
   "metadata": {},
   "outputs": [
    {
     "name": "stdout",
     "output_type": "stream",
     "text": [
      "Dash app running on http://127.0.0.1:8050/\n"
     ]
    },
    {
     "name": "stderr",
     "output_type": "stream",
     "text": [
      "c:\\Users\\jrami\\VSCodeProjects\\dash-presentation\\venv\\lib\\site-packages\\jupyter_dash\\jupyter_app.py:139: UserWarning:\n",
      "\n",
      "The 'environ['werkzeug.server.shutdown']' function is deprecated and will be removed in Werkzeug 2.1.\n",
      "\n"
     ]
    }
   ],
   "source": [
    "app = JupyterDash(__name__, external_stylesheets=[dbc.themes.BOOTSTRAP], suppress_callback_exceptions=True)\n",
    "\n",
    "def create_calories_and_output_card(df: pd.DataFrame) -> dbc.Card:\n",
    "    \"\"\"\n",
    "    Creates a dbc card with a title, DatePicker, RadioButton, and a timeseries figure.\n",
    "\n",
    "    Parameters\n",
    "    ----------\n",
    "        df : pd.DataFrame The dataframe to be plotted.\n",
    "\n",
    "    Returns\n",
    "    -------\n",
    "        dbc.Card: Card with header, datepicker, radio buttons and plot.\n",
    "    \"\"\"\n",
    "    return dbc.Card([\n",
    "        dbc.CardBody([\n",
    "            html.Center(html.H1(\"Weekly Calorie and Output Breakdown\", className='card-title')),\n",
    "            html.Center(\n",
    "                dcc.DatePickerRange(\n",
    "                    id='date-range-picker-2',\n",
    "                    min_date_allowed=df['Workout Timestamp'].min(),\n",
    "                    max_date_allowed=df['Workout Timestamp'].max(),\n",
    "                    initial_visible_month=df['Workout Timestamp'].min(),\n",
    "                    start_date=df['Workout Timestamp'].min(),\n",
    "                    end_date=df['Workout Timestamp'].max(),\n",
    "                    style={\n",
    "                        \"margin-top\": \"1rem\",\n",
    "                        \"margin-bottom\": \"1rem\"\n",
    "                    }\n",
    "                )\n",
    "            ),\n",
    "            html.Center(dcc.RadioItems(\n",
    "                options=[\n",
    "                    {'label': 'Daily', 'value': 'D'},\n",
    "                    {'label': 'Weekly', 'value': 'W'},\n",
    "                    {'label': 'Monthly', 'value': 'M'},\n",
    "                ],\n",
    "                value='W',\n",
    "                id='frequency-radio-2',\n",
    "                labelStyle={'padding-right': '20px'}\n",
    "            ),\n",
    "            ),\n",
    "            dcc.Graph(\n",
    "                id='calories-output-graph',\n",
    "            )\n",
    "        ])\n",
    "    ],\n",
    "        outline=True,\n",
    "        color='info',\n",
    "        style={\n",
    "            \"margin-left\": \"1rem\",\n",
    "            \"margin-bottom\": \"1rem\"\n",
    "        }\n",
    "    )\n",
    "\n",
    "@app.callback(\n",
    "    Output('calories-output-graph', 'figure'),\n",
    "    [   Input('date-range-picker-2', 'start_date'),\n",
    "        Input('date-range-picker-2', 'end_date'),\n",
    "        Input('frequency-radio-2', 'value')]\n",
    ")\n",
    "def update_weekly_calories_burned_chart(start_date, end_date, frequency):\n",
    "    \"\"\"\n",
    "    Updates the weekly calories burned chart with the selected date range and frequency.\n",
    "    \"\"\"\n",
    "    grouped_df = group_data_by_timestamp(start_date, end_date, frequency)\n",
    "    return create_timeseries_figure(grouped_df, frequency)\n",
    "\n",
    "app.layout = html.Div(\n",
    "    children=[\n",
    "        dbc.Row([create_calories_and_output_card(df)])\n",
    "    ]\n",
    ")\n",
    "\n",
    "app.run_server(debug=True)"
   ]
  },
  {
   "cell_type": "markdown",
   "metadata": {},
   "source": [
    "## Step 5: Lets add a header"
   ]
  },
  {
   "cell_type": "code",
   "execution_count": 10,
   "metadata": {},
   "outputs": [
    {
     "name": "stdout",
     "output_type": "stream",
     "text": [
      "Dash app running on http://127.0.0.1:8050/\n"
     ]
    },
    {
     "name": "stderr",
     "output_type": "stream",
     "text": [
      "c:\\Users\\jrami\\VSCodeProjects\\dash-presentation\\venv\\lib\\site-packages\\jupyter_dash\\jupyter_app.py:139: UserWarning:\n",
      "\n",
      "The 'environ['werkzeug.server.shutdown']' function is deprecated and will be removed in Werkzeug 2.1.\n",
      "\n"
     ]
    }
   ],
   "source": [
    "titleCard = dbc.Card([\n",
    "        dbc.CardBody([\n",
    "            html.H1(\"Welcome to your workout dashboard, Jose!\", className='card-title'),\n",
    "            ])\n",
    "        ],\n",
    "        color='dark',\n",
    "        inverse=True,\n",
    "        style={\n",
    "            \"width\": \"55rem\",\n",
    "            \"margin-left\": \"1rem\",\n",
    "            \"margin-top\": \"1rem\",\n",
    "            \"margin-bottom\": \"1rem\"\n",
    "        }\n",
    "    )\n",
    "\n",
    "app.layout = html.Div(\n",
    "    children=[\n",
    "        dbc.Row([\n",
    "                html.Center(titleCard),\n",
    "                ],\n",
    "                justify=\"center\",\n",
    "                style={\n",
    "                    'margin-left': '0.5rem'\n",
    "                }\n",
    "        ),\n",
    "        dbc.Row([create_calories_and_output_card(df)])\n",
    "    ]\n",
    ")\n",
    "\n",
    "app.run_server(debug=True)"
   ]
  },
  {
   "cell_type": "markdown",
   "metadata": {},
   "source": [
    "## Step 6: Lets add a second plot"
   ]
  },
  {
   "cell_type": "markdown",
   "metadata": {},
   "source": [
    "Note: go back and change width of create_calories_and_output_chart to be 50rem"
   ]
  },
  {
   "cell_type": "code",
   "execution_count": 14,
   "metadata": {},
   "outputs": [
    {
     "name": "stdout",
     "output_type": "stream",
     "text": [
      "Dash app running on http://127.0.0.1:8050/\n"
     ]
    },
    {
     "name": "stderr",
     "output_type": "stream",
     "text": [
      "c:\\Users\\jrami\\VSCodeProjects\\dash-presentation\\venv\\lib\\site-packages\\jupyter_dash\\jupyter_app.py:139: UserWarning:\n",
      "\n",
      "The 'environ['werkzeug.server.shutdown']' function is deprecated and will be removed in Werkzeug 2.1.\n",
      "\n"
     ]
    }
   ],
   "source": [
    "def get_fitness_discipline_chart(df: pd.DataFrame) -> px.scatter:\n",
    "    pie = px.pie(\n",
    "        df,\n",
    "        values=\"Length (minutes)\",\n",
    "        names=\"Fitness Discipline\",\n",
    "        title=\"Time Spent Per Fitness Discipline\",\n",
    "        hole=0.2,\n",
    "    )\n",
    "    pie.update_traces(textposition='inside', textinfo='percent+label')\n",
    "    pie.update_layout(width=1600)\n",
    "    pie.update_layout(title_x=0.5)\n",
    "    return pie\n",
    "\n",
    "def create_discipline_card(workout_df: pd.DataFrame) -> dbc.Card:\n",
    "    return dbc.Card([\n",
    "        dbc.CardBody([\n",
    "            html.Center(html.H1(\"Fitness Discipline Breakdown\", className='card-title')),\n",
    "            html.P(\"This chart shows the percentage of time spent in minutes for each fitness discipline.\", className='card-body'),\n",
    "            dcc.Graph(\n",
    "                id='fitness-discipline-by-calories-chart',\n",
    "                figure=get_fitness_discipline_chart(workout_df)\n",
    "            )\n",
    "        ])\n",
    "    ],\n",
    "        color='info',\n",
    "        outline=True,\n",
    "        style={\n",
    "            \"width\": \"50rem\",\n",
    "            \"margin-left\": \"1rem\",\n",
    "            \"margin-bottom\": \"1rem\"\n",
    "        }\n",
    "    )\n",
    "\n",
    "app.layout = html.Div(\n",
    "    children=[\n",
    "        dbc.Row([\n",
    "                html.Center(titleCard),\n",
    "                ],\n",
    "                justify=\"center\",\n",
    "                style={\n",
    "                    'margin-left': '0.5rem'\n",
    "                }\n",
    "        ),\n",
    "        dbc.Row([\n",
    "            dbc.Col([\n",
    "                create_calories_and_output_card(df),\n",
    "                create_discipline_card(df)\n",
    "            ])\n",
    "        ])\n",
    "    ]\n",
    ")\n",
    "\n",
    "app.run_server(debug=True)"
   ]
  },
  {
   "cell_type": "markdown",
   "metadata": {},
   "source": [
    "## Step 7: Lets finish off our dashboard with a final plot and a favorite indstructor card"
   ]
  },
  {
   "cell_type": "code",
   "execution_count": null,
   "metadata": {},
   "outputs": [],
   "source": [
    "def get_top_instructor(workout_df: pd.DataFrame) -> px.bar:\n",
    "    fav_instructor_name = workout_df['Instructor Name'].mode()[0]\n",
    "    fav_instructor_image = os.path.join(\n",
    "        'assets', \n",
    "        'img', \n",
    "        fav_instructor_name.lower().replace(\" \", \"_\") + \".png\"\n",
    "    )\n",
    "    return html.Center(\n",
    "        html.Img(\n",
    "        className=\"circular-square\",\n",
    "        src=fav_instructor_image,\n",
    "        title=f\"Favorite Instructor: {fav_instructor_name}\",\n",
    "        ),\n",
    "    )\n",
    "\n",
    "def create_top_instructor_card(workout_df: pd.DataFrame) -> dbc.Card:\n",
    "    fav_instructor_name = workout_df['Instructor Name'].mode()[0]\n",
    "    return dbc.Card([\n",
    "        dbc.CardBody([\n",
    "            html.Center(html.H1(\"Top Instructor\", className='card-title')),\n",
    "            html.Center(html.H3(f\"{fav_instructor_name} is the top instructor!\")),\n",
    "            get_top_instructor(workout_df)\n",
    "        ])\n",
    "    ],\n",
    "        outline=True,\n",
    "        color='info',\n",
    "        style={\n",
    "            \"width\": \"50rem\",\n",
    "            \"margin-left\": \"10rem\",\n",
    "            \"margin-bottom\": \"1rem\"\n",
    "        }\n",
    "    )"
   ]
  }
 ],
 "metadata": {
  "interpreter": {
   "hash": "01309d9369fda55ba7fc8120cca824fed112355aa9df8d389e45208860edfdd3"
  },
  "kernelspec": {
   "display_name": "Python 3.9.10 ('venv': venv)",
   "language": "python",
   "name": "python3"
  },
  "language_info": {
   "codemirror_mode": {
    "name": "ipython",
    "version": 3
   },
   "file_extension": ".py",
   "mimetype": "text/x-python",
   "name": "python",
   "nbconvert_exporter": "python",
   "pygments_lexer": "ipython3",
   "version": "3.9.10"
  },
  "orig_nbformat": 4
 },
 "nbformat": 4,
 "nbformat_minor": 2
}
