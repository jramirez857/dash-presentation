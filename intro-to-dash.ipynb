{
 "cells": [
  {
   "cell_type": "markdown",
   "metadata": {},
   "source": [
    "# Intro to Dash: Visualizing workout data with reactive plots\n",
    "\n",
    "Dash is a low code web application framework for rapidly building data apps in Python. It is written on top of Plotly and React. It is a great tool for building data driven web apps."
   ]
  },
  {
   "cell_type": "code",
   "execution_count": 18,
   "metadata": {},
   "outputs": [],
   "source": [
    "import pandas as pd\n",
    "\n",
    "from csv_generator import generate_csv\n",
    "\n",
    "generate_csv()\n",
    "\n",
    "\"\"\"Creates a dataframe of workouts from peloton workouts csv. Can be downloaded from \n",
    "https://members.onepeloton.com/profile/workouts\n",
    "\"\"\"\n",
    "df = pd.read_csv('workouts.csv')\n"
   ]
  },
  {
   "cell_type": "markdown",
   "metadata": {},
   "source": [
    "## Step 1: Import our dependencies\n",
    "\n",
    "Dash makes use of plotly for its charts. We are using dash-bootstrap-components here for our html components and styling. We are importing dash-core-components (dcc) for dash components such as dropdowns and graphs. The dash html components provide an easy way for us to create html components. jupyter dash is used for developing within jupyter notebooks. Finally, we are importing Input and Output and state from dash.dependencies. These are used for callbacks.\n",
    "\n",
    "**Useful documentation links:**\n",
    "\n",
    "- Plotly: [make_subplots](https://plotly.com/python-api-reference/generated/plotly.subplots.make_subplots.html)\n",
    "- Dash Core Components: [dash.dcc](https://dash.plotly.com/dash-core-components)\n",
    "- Dash HTML Components: [dash.html](https://dash.plotly.com/dash-html-components)\n",
    "- Jupyter Dash: [jupyter dash](https://dash.plotly.com/jupyter-dash)"
   ]
  },
  {
   "cell_type": "code",
   "execution_count": 2,
   "metadata": {},
   "outputs": [],
   "source": [
    "import os\n",
    "import plotly.graph_objects as go\n",
    "import plotly.express as px\n",
    "import dash_bootstrap_components as dbc\n",
    "\n",
    "from plotly.subplots import make_subplots\n",
    "from dash import dcc, html\n",
    "from jupyter_dash import JupyterDash\n",
    "from dash.dependencies import Input, Output, State"
   ]
  },
  {
   "cell_type": "markdown",
   "metadata": {},
   "source": [
    "## Step 2: Filter and group data"
   ]
  },
  {
   "cell_type": "code",
   "execution_count": 19,
   "metadata": {},
   "outputs": [
    {
     "data": {
      "text/html": [
       "<div>\n",
       "<style scoped>\n",
       "    .dataframe tbody tr th:only-of-type {\n",
       "        vertical-align: middle;\n",
       "    }\n",
       "\n",
       "    .dataframe tbody tr th {\n",
       "        vertical-align: top;\n",
       "    }\n",
       "\n",
       "    .dataframe thead th {\n",
       "        text-align: right;\n",
       "    }\n",
       "</style>\n",
       "<table border=\"1\" class=\"dataframe\">\n",
       "  <thead>\n",
       "    <tr style=\"text-align: right;\">\n",
       "      <th></th>\n",
       "      <th>Workout Timestamp</th>\n",
       "      <th>Calories Burned</th>\n",
       "      <th>Total Output</th>\n",
       "    </tr>\n",
       "  </thead>\n",
       "  <tbody>\n",
       "    <tr>\n",
       "      <th>0</th>\n",
       "      <td>2021-01-03</td>\n",
       "      <td>572.82</td>\n",
       "      <td>409.52</td>\n",
       "    </tr>\n",
       "    <tr>\n",
       "      <th>1</th>\n",
       "      <td>2021-01-10</td>\n",
       "      <td>0.00</td>\n",
       "      <td>0.00</td>\n",
       "    </tr>\n",
       "    <tr>\n",
       "      <th>2</th>\n",
       "      <td>2021-01-17</td>\n",
       "      <td>1355.93</td>\n",
       "      <td>1276.64</td>\n",
       "    </tr>\n",
       "    <tr>\n",
       "      <th>3</th>\n",
       "      <td>2021-01-24</td>\n",
       "      <td>952.37</td>\n",
       "      <td>464.58</td>\n",
       "    </tr>\n",
       "    <tr>\n",
       "      <th>4</th>\n",
       "      <td>2021-01-31</td>\n",
       "      <td>965.91</td>\n",
       "      <td>547.93</td>\n",
       "    </tr>\n",
       "    <tr>\n",
       "      <th>...</th>\n",
       "      <td>...</td>\n",
       "      <td>...</td>\n",
       "      <td>...</td>\n",
       "    </tr>\n",
       "    <tr>\n",
       "      <th>58</th>\n",
       "      <td>2022-02-13</td>\n",
       "      <td>1821.00</td>\n",
       "      <td>573.16</td>\n",
       "    </tr>\n",
       "    <tr>\n",
       "      <th>59</th>\n",
       "      <td>2022-02-20</td>\n",
       "      <td>770.00</td>\n",
       "      <td>690.96</td>\n",
       "    </tr>\n",
       "    <tr>\n",
       "      <th>60</th>\n",
       "      <td>2022-02-27</td>\n",
       "      <td>1435.06</td>\n",
       "      <td>1094.66</td>\n",
       "    </tr>\n",
       "    <tr>\n",
       "      <th>61</th>\n",
       "      <td>2022-03-06</td>\n",
       "      <td>1338.59</td>\n",
       "      <td>375.77</td>\n",
       "    </tr>\n",
       "    <tr>\n",
       "      <th>62</th>\n",
       "      <td>2022-03-13</td>\n",
       "      <td>474.45</td>\n",
       "      <td>436.19</td>\n",
       "    </tr>\n",
       "  </tbody>\n",
       "</table>\n",
       "<p>63 rows × 3 columns</p>\n",
       "</div>"
      ],
      "text/plain": [
       "   Workout Timestamp  Calories Burned  Total Output\n",
       "0         2021-01-03           572.82        409.52\n",
       "1         2021-01-10             0.00          0.00\n",
       "2         2021-01-17          1355.93       1276.64\n",
       "3         2021-01-24           952.37        464.58\n",
       "4         2021-01-31           965.91        547.93\n",
       "..               ...              ...           ...\n",
       "58        2022-02-13          1821.00        573.16\n",
       "59        2022-02-20           770.00        690.96\n",
       "60        2022-02-27          1435.06       1094.66\n",
       "61        2022-03-06          1338.59        375.77\n",
       "62        2022-03-13           474.45        436.19\n",
       "\n",
       "[63 rows x 3 columns]"
      ]
     },
     "execution_count": 19,
     "metadata": {},
     "output_type": "execute_result"
    }
   ],
   "source": [
    "ts ='Workout Timestamp'\n",
    "def group_data_by_timestamp(start_date = df[ts].min(), end_date = df[ts].max() , freq: str ='W') -> pd.DataFrame:\n",
    "    \"\"\"\n",
    "    Filters dataframe by date range and groups by frequency of week by default.\n",
    "    Returns a dataframe with Calories Burned and Total Output summed by the chosen frequency.\n",
    "\n",
    "    Parameters\n",
    "    ----------\n",
    "        start_date : date The start date of the range\n",
    "        end_date : date The end date of the range\n",
    "        freq : str The frequency of the group. Default is weekly.\n",
    "\n",
    "    Returns\n",
    "    -------\n",
    "        df : pd.DataFrame The dataframe with the summed columns.\n",
    "\n",
    "    \"\"\"\n",
    "    dff = df.loc[(start_date <= df[ts]) & (df[ts] <= end_date)]\n",
    "\n",
    "    for tz in ['EST', 'EDT', '-04', '-05']:\n",
    "        dff.loc[:, ts]= dff[ts].str.replace(f\"\\({tz}\\)\", '', regex=True)\n",
    "\n",
    "    dff.loc[:,ts] = pd.to_datetime(dff[ts], format='%Y-%m-%d %H:%M', errors='coerce')\n",
    "    return dff.groupby(pd.Grouper(key=ts, freq=freq))[['Calories Burned', 'Total Output']].agg('sum').reset_index()\n",
    "\n",
    "group_data_by_timestamp()"
   ]
  },
  {
   "cell_type": "markdown",
   "metadata": {},
   "source": [
    "## Step 3: Create our plot\n",
    "\n",
    "Now that we have our data grouped as we'd like to see it, lets plot it using plotly. Since Dash is built on top of plotly, we will be able to use this figure in our web app later.\n"
   ]
  },
  {
   "cell_type": "code",
   "execution_count": 20,
   "metadata": {},
   "outputs": [
    {
     "data": {
      "application/vnd.plotly.v1+json": {
       "config": {
        "plotlyServerURL": "https://plot.ly"
       },
       "data": [
        {
         "marker": {
          "color": "MediumPurple",
          "size": 10
         },
         "name": "Total Calories",
         "type": "scatter",
         "x": [
          "2021-01-03T00:00:00",
          "2021-01-10T00:00:00",
          "2021-01-17T00:00:00",
          "2021-01-24T00:00:00",
          "2021-01-31T00:00:00",
          "2021-02-07T00:00:00",
          "2021-02-14T00:00:00",
          "2021-02-21T00:00:00",
          "2021-02-28T00:00:00",
          "2021-03-07T00:00:00",
          "2021-03-14T00:00:00",
          "2021-03-21T00:00:00",
          "2021-03-28T00:00:00",
          "2021-04-04T00:00:00",
          "2021-04-11T00:00:00",
          "2021-04-18T00:00:00",
          "2021-04-25T00:00:00",
          "2021-05-02T00:00:00",
          "2021-05-09T00:00:00",
          "2021-05-16T00:00:00",
          "2021-05-23T00:00:00",
          "2021-05-30T00:00:00",
          "2021-06-06T00:00:00",
          "2021-06-13T00:00:00",
          "2021-06-20T00:00:00",
          "2021-06-27T00:00:00",
          "2021-07-04T00:00:00",
          "2021-07-11T00:00:00",
          "2021-07-18T00:00:00",
          "2021-07-25T00:00:00",
          "2021-08-01T00:00:00",
          "2021-08-08T00:00:00",
          "2021-08-15T00:00:00",
          "2021-08-22T00:00:00",
          "2021-08-29T00:00:00",
          "2021-09-05T00:00:00",
          "2021-09-12T00:00:00",
          "2021-09-19T00:00:00",
          "2021-09-26T00:00:00",
          "2021-10-03T00:00:00",
          "2021-10-10T00:00:00",
          "2021-10-17T00:00:00",
          "2021-10-24T00:00:00",
          "2021-10-31T00:00:00",
          "2021-11-07T00:00:00",
          "2021-11-14T00:00:00",
          "2021-11-21T00:00:00",
          "2021-11-28T00:00:00",
          "2021-12-05T00:00:00",
          "2021-12-12T00:00:00",
          "2021-12-19T00:00:00",
          "2021-12-26T00:00:00",
          "2022-01-02T00:00:00",
          "2022-01-09T00:00:00",
          "2022-01-16T00:00:00",
          "2022-01-23T00:00:00",
          "2022-01-30T00:00:00",
          "2022-02-06T00:00:00",
          "2022-02-13T00:00:00",
          "2022-02-20T00:00:00",
          "2022-02-27T00:00:00",
          "2022-03-06T00:00:00",
          "2022-03-13T00:00:00"
         ],
         "xaxis": "x",
         "y": [
          572.8199999999999,
          0,
          1355.93,
          952.37,
          965.9100000000001,
          968,
          1986.24,
          1231,
          1223.33,
          2840.49,
          2483.62,
          1524.73,
          733,
          969,
          1795,
          1403,
          373,
          1604,
          1526.38,
          365.44,
          1105.95,
          1220.8899999999999,
          83,
          439,
          1661.59,
          1325.13,
          3138,
          2158.57,
          1597,
          557.06,
          1496.5,
          3061.5299999999997,
          2256.7799999999997,
          1691,
          2058.9,
          1089,
          1712,
          2211,
          1669,
          2274,
          725,
          2054.64,
          1920.54,
          1074.72,
          1104.81,
          1525,
          1906.56,
          1402.63,
          1806.77,
          1825.98,
          2450,
          1227.21,
          3477.24,
          1106.48,
          1621,
          2002.95,
          1654.69,
          1348,
          1821,
          770,
          1435.06,
          1338.59,
          474.45
         ],
         "yaxis": "y"
        },
        {
         "marker": {
          "color": "MediumSeaGreen",
          "size": 10
         },
         "name": "Total Output",
         "type": "scatter",
         "x": [
          "2021-01-03T00:00:00",
          "2021-01-10T00:00:00",
          "2021-01-17T00:00:00",
          "2021-01-24T00:00:00",
          "2021-01-31T00:00:00",
          "2021-02-07T00:00:00",
          "2021-02-14T00:00:00",
          "2021-02-21T00:00:00",
          "2021-02-28T00:00:00",
          "2021-03-07T00:00:00",
          "2021-03-14T00:00:00",
          "2021-03-21T00:00:00",
          "2021-03-28T00:00:00",
          "2021-04-04T00:00:00",
          "2021-04-11T00:00:00",
          "2021-04-18T00:00:00",
          "2021-04-25T00:00:00",
          "2021-05-02T00:00:00",
          "2021-05-09T00:00:00",
          "2021-05-16T00:00:00",
          "2021-05-23T00:00:00",
          "2021-05-30T00:00:00",
          "2021-06-06T00:00:00",
          "2021-06-13T00:00:00",
          "2021-06-20T00:00:00",
          "2021-06-27T00:00:00",
          "2021-07-04T00:00:00",
          "2021-07-11T00:00:00",
          "2021-07-18T00:00:00",
          "2021-07-25T00:00:00",
          "2021-08-01T00:00:00",
          "2021-08-08T00:00:00",
          "2021-08-15T00:00:00",
          "2021-08-22T00:00:00",
          "2021-08-29T00:00:00",
          "2021-09-05T00:00:00",
          "2021-09-12T00:00:00",
          "2021-09-19T00:00:00",
          "2021-09-26T00:00:00",
          "2021-10-03T00:00:00",
          "2021-10-10T00:00:00",
          "2021-10-17T00:00:00",
          "2021-10-24T00:00:00",
          "2021-10-31T00:00:00",
          "2021-11-07T00:00:00",
          "2021-11-14T00:00:00",
          "2021-11-21T00:00:00",
          "2021-11-28T00:00:00",
          "2021-12-05T00:00:00",
          "2021-12-12T00:00:00",
          "2021-12-19T00:00:00",
          "2021-12-26T00:00:00",
          "2022-01-02T00:00:00",
          "2022-01-09T00:00:00",
          "2022-01-16T00:00:00",
          "2022-01-23T00:00:00",
          "2022-01-30T00:00:00",
          "2022-02-06T00:00:00",
          "2022-02-13T00:00:00",
          "2022-02-20T00:00:00",
          "2022-02-27T00:00:00",
          "2022-03-06T00:00:00",
          "2022-03-13T00:00:00"
         ],
         "xaxis": "x",
         "y": [
          409.52,
          0,
          1276.64,
          464.58000000000004,
          547.93,
          891.8399999999999,
          608.69,
          415.24,
          789.84,
          2323.22,
          2020.42,
          1846.3899999999999,
          208.04,
          574.8,
          1150.57,
          1167.81,
          278.41,
          1432.21,
          705.9300000000001,
          350.85,
          458.06,
          1168.43,
          170.38,
          479.02,
          930.8100000000001,
          1196.27,
          1486.72,
          1182.93,
          838.72,
          369.80999999999995,
          1052.77,
          1693.72,
          1432.38,
          698.39,
          497.81,
          555.35,
          959.09,
          1427.29,
          1070.61,
          1606.06,
          627.55,
          1130.03,
          1022.35,
          441.15,
          651.76,
          903,
          1198.09,
          943.8100000000001,
          1070.04,
          1126.6299999999999,
          1048.29,
          773.3900000000001,
          1594.43,
          1080.95,
          611.78,
          1045.15,
          1002.85,
          541.35,
          573.16,
          690.96,
          1094.6599999999999,
          375.77,
          436.19000000000005
         ],
         "yaxis": "y2"
        }
       ],
       "layout": {
        "template": {
         "data": {
          "bar": [
           {
            "error_x": {
             "color": "#2a3f5f"
            },
            "error_y": {
             "color": "#2a3f5f"
            },
            "marker": {
             "line": {
              "color": "#E5ECF6",
              "width": 0.5
             },
             "pattern": {
              "fillmode": "overlay",
              "size": 10,
              "solidity": 0.2
             }
            },
            "type": "bar"
           }
          ],
          "barpolar": [
           {
            "marker": {
             "line": {
              "color": "#E5ECF6",
              "width": 0.5
             },
             "pattern": {
              "fillmode": "overlay",
              "size": 10,
              "solidity": 0.2
             }
            },
            "type": "barpolar"
           }
          ],
          "carpet": [
           {
            "aaxis": {
             "endlinecolor": "#2a3f5f",
             "gridcolor": "white",
             "linecolor": "white",
             "minorgridcolor": "white",
             "startlinecolor": "#2a3f5f"
            },
            "baxis": {
             "endlinecolor": "#2a3f5f",
             "gridcolor": "white",
             "linecolor": "white",
             "minorgridcolor": "white",
             "startlinecolor": "#2a3f5f"
            },
            "type": "carpet"
           }
          ],
          "choropleth": [
           {
            "colorbar": {
             "outlinewidth": 0,
             "ticks": ""
            },
            "type": "choropleth"
           }
          ],
          "contour": [
           {
            "colorbar": {
             "outlinewidth": 0,
             "ticks": ""
            },
            "colorscale": [
             [
              0,
              "#0d0887"
             ],
             [
              0.1111111111111111,
              "#46039f"
             ],
             [
              0.2222222222222222,
              "#7201a8"
             ],
             [
              0.3333333333333333,
              "#9c179e"
             ],
             [
              0.4444444444444444,
              "#bd3786"
             ],
             [
              0.5555555555555556,
              "#d8576b"
             ],
             [
              0.6666666666666666,
              "#ed7953"
             ],
             [
              0.7777777777777778,
              "#fb9f3a"
             ],
             [
              0.8888888888888888,
              "#fdca26"
             ],
             [
              1,
              "#f0f921"
             ]
            ],
            "type": "contour"
           }
          ],
          "contourcarpet": [
           {
            "colorbar": {
             "outlinewidth": 0,
             "ticks": ""
            },
            "type": "contourcarpet"
           }
          ],
          "heatmap": [
           {
            "colorbar": {
             "outlinewidth": 0,
             "ticks": ""
            },
            "colorscale": [
             [
              0,
              "#0d0887"
             ],
             [
              0.1111111111111111,
              "#46039f"
             ],
             [
              0.2222222222222222,
              "#7201a8"
             ],
             [
              0.3333333333333333,
              "#9c179e"
             ],
             [
              0.4444444444444444,
              "#bd3786"
             ],
             [
              0.5555555555555556,
              "#d8576b"
             ],
             [
              0.6666666666666666,
              "#ed7953"
             ],
             [
              0.7777777777777778,
              "#fb9f3a"
             ],
             [
              0.8888888888888888,
              "#fdca26"
             ],
             [
              1,
              "#f0f921"
             ]
            ],
            "type": "heatmap"
           }
          ],
          "heatmapgl": [
           {
            "colorbar": {
             "outlinewidth": 0,
             "ticks": ""
            },
            "colorscale": [
             [
              0,
              "#0d0887"
             ],
             [
              0.1111111111111111,
              "#46039f"
             ],
             [
              0.2222222222222222,
              "#7201a8"
             ],
             [
              0.3333333333333333,
              "#9c179e"
             ],
             [
              0.4444444444444444,
              "#bd3786"
             ],
             [
              0.5555555555555556,
              "#d8576b"
             ],
             [
              0.6666666666666666,
              "#ed7953"
             ],
             [
              0.7777777777777778,
              "#fb9f3a"
             ],
             [
              0.8888888888888888,
              "#fdca26"
             ],
             [
              1,
              "#f0f921"
             ]
            ],
            "type": "heatmapgl"
           }
          ],
          "histogram": [
           {
            "marker": {
             "pattern": {
              "fillmode": "overlay",
              "size": 10,
              "solidity": 0.2
             }
            },
            "type": "histogram"
           }
          ],
          "histogram2d": [
           {
            "colorbar": {
             "outlinewidth": 0,
             "ticks": ""
            },
            "colorscale": [
             [
              0,
              "#0d0887"
             ],
             [
              0.1111111111111111,
              "#46039f"
             ],
             [
              0.2222222222222222,
              "#7201a8"
             ],
             [
              0.3333333333333333,
              "#9c179e"
             ],
             [
              0.4444444444444444,
              "#bd3786"
             ],
             [
              0.5555555555555556,
              "#d8576b"
             ],
             [
              0.6666666666666666,
              "#ed7953"
             ],
             [
              0.7777777777777778,
              "#fb9f3a"
             ],
             [
              0.8888888888888888,
              "#fdca26"
             ],
             [
              1,
              "#f0f921"
             ]
            ],
            "type": "histogram2d"
           }
          ],
          "histogram2dcontour": [
           {
            "colorbar": {
             "outlinewidth": 0,
             "ticks": ""
            },
            "colorscale": [
             [
              0,
              "#0d0887"
             ],
             [
              0.1111111111111111,
              "#46039f"
             ],
             [
              0.2222222222222222,
              "#7201a8"
             ],
             [
              0.3333333333333333,
              "#9c179e"
             ],
             [
              0.4444444444444444,
              "#bd3786"
             ],
             [
              0.5555555555555556,
              "#d8576b"
             ],
             [
              0.6666666666666666,
              "#ed7953"
             ],
             [
              0.7777777777777778,
              "#fb9f3a"
             ],
             [
              0.8888888888888888,
              "#fdca26"
             ],
             [
              1,
              "#f0f921"
             ]
            ],
            "type": "histogram2dcontour"
           }
          ],
          "mesh3d": [
           {
            "colorbar": {
             "outlinewidth": 0,
             "ticks": ""
            },
            "type": "mesh3d"
           }
          ],
          "parcoords": [
           {
            "line": {
             "colorbar": {
              "outlinewidth": 0,
              "ticks": ""
             }
            },
            "type": "parcoords"
           }
          ],
          "pie": [
           {
            "automargin": true,
            "type": "pie"
           }
          ],
          "scatter": [
           {
            "marker": {
             "colorbar": {
              "outlinewidth": 0,
              "ticks": ""
             }
            },
            "type": "scatter"
           }
          ],
          "scatter3d": [
           {
            "line": {
             "colorbar": {
              "outlinewidth": 0,
              "ticks": ""
             }
            },
            "marker": {
             "colorbar": {
              "outlinewidth": 0,
              "ticks": ""
             }
            },
            "type": "scatter3d"
           }
          ],
          "scattercarpet": [
           {
            "marker": {
             "colorbar": {
              "outlinewidth": 0,
              "ticks": ""
             }
            },
            "type": "scattercarpet"
           }
          ],
          "scattergeo": [
           {
            "marker": {
             "colorbar": {
              "outlinewidth": 0,
              "ticks": ""
             }
            },
            "type": "scattergeo"
           }
          ],
          "scattergl": [
           {
            "marker": {
             "colorbar": {
              "outlinewidth": 0,
              "ticks": ""
             }
            },
            "type": "scattergl"
           }
          ],
          "scattermapbox": [
           {
            "marker": {
             "colorbar": {
              "outlinewidth": 0,
              "ticks": ""
             }
            },
            "type": "scattermapbox"
           }
          ],
          "scatterpolar": [
           {
            "marker": {
             "colorbar": {
              "outlinewidth": 0,
              "ticks": ""
             }
            },
            "type": "scatterpolar"
           }
          ],
          "scatterpolargl": [
           {
            "marker": {
             "colorbar": {
              "outlinewidth": 0,
              "ticks": ""
             }
            },
            "type": "scatterpolargl"
           }
          ],
          "scatterternary": [
           {
            "marker": {
             "colorbar": {
              "outlinewidth": 0,
              "ticks": ""
             }
            },
            "type": "scatterternary"
           }
          ],
          "surface": [
           {
            "colorbar": {
             "outlinewidth": 0,
             "ticks": ""
            },
            "colorscale": [
             [
              0,
              "#0d0887"
             ],
             [
              0.1111111111111111,
              "#46039f"
             ],
             [
              0.2222222222222222,
              "#7201a8"
             ],
             [
              0.3333333333333333,
              "#9c179e"
             ],
             [
              0.4444444444444444,
              "#bd3786"
             ],
             [
              0.5555555555555556,
              "#d8576b"
             ],
             [
              0.6666666666666666,
              "#ed7953"
             ],
             [
              0.7777777777777778,
              "#fb9f3a"
             ],
             [
              0.8888888888888888,
              "#fdca26"
             ],
             [
              1,
              "#f0f921"
             ]
            ],
            "type": "surface"
           }
          ],
          "table": [
           {
            "cells": {
             "fill": {
              "color": "#EBF0F8"
             },
             "line": {
              "color": "white"
             }
            },
            "header": {
             "fill": {
              "color": "#C8D4E3"
             },
             "line": {
              "color": "white"
             }
            },
            "type": "table"
           }
          ]
         },
         "layout": {
          "annotationdefaults": {
           "arrowcolor": "#2a3f5f",
           "arrowhead": 0,
           "arrowwidth": 1
          },
          "autotypenumbers": "strict",
          "coloraxis": {
           "colorbar": {
            "outlinewidth": 0,
            "ticks": ""
           }
          },
          "colorscale": {
           "diverging": [
            [
             0,
             "#8e0152"
            ],
            [
             0.1,
             "#c51b7d"
            ],
            [
             0.2,
             "#de77ae"
            ],
            [
             0.3,
             "#f1b6da"
            ],
            [
             0.4,
             "#fde0ef"
            ],
            [
             0.5,
             "#f7f7f7"
            ],
            [
             0.6,
             "#e6f5d0"
            ],
            [
             0.7,
             "#b8e186"
            ],
            [
             0.8,
             "#7fbc41"
            ],
            [
             0.9,
             "#4d9221"
            ],
            [
             1,
             "#276419"
            ]
           ],
           "sequential": [
            [
             0,
             "#0d0887"
            ],
            [
             0.1111111111111111,
             "#46039f"
            ],
            [
             0.2222222222222222,
             "#7201a8"
            ],
            [
             0.3333333333333333,
             "#9c179e"
            ],
            [
             0.4444444444444444,
             "#bd3786"
            ],
            [
             0.5555555555555556,
             "#d8576b"
            ],
            [
             0.6666666666666666,
             "#ed7953"
            ],
            [
             0.7777777777777778,
             "#fb9f3a"
            ],
            [
             0.8888888888888888,
             "#fdca26"
            ],
            [
             1,
             "#f0f921"
            ]
           ],
           "sequentialminus": [
            [
             0,
             "#0d0887"
            ],
            [
             0.1111111111111111,
             "#46039f"
            ],
            [
             0.2222222222222222,
             "#7201a8"
            ],
            [
             0.3333333333333333,
             "#9c179e"
            ],
            [
             0.4444444444444444,
             "#bd3786"
            ],
            [
             0.5555555555555556,
             "#d8576b"
            ],
            [
             0.6666666666666666,
             "#ed7953"
            ],
            [
             0.7777777777777778,
             "#fb9f3a"
            ],
            [
             0.8888888888888888,
             "#fdca26"
            ],
            [
             1,
             "#f0f921"
            ]
           ]
          },
          "colorway": [
           "#636efa",
           "#EF553B",
           "#00cc96",
           "#ab63fa",
           "#FFA15A",
           "#19d3f3",
           "#FF6692",
           "#B6E880",
           "#FF97FF",
           "#FECB52"
          ],
          "font": {
           "color": "#2a3f5f"
          },
          "geo": {
           "bgcolor": "white",
           "lakecolor": "white",
           "landcolor": "#E5ECF6",
           "showlakes": true,
           "showland": true,
           "subunitcolor": "white"
          },
          "hoverlabel": {
           "align": "left"
          },
          "hovermode": "closest",
          "mapbox": {
           "style": "light"
          },
          "paper_bgcolor": "white",
          "plot_bgcolor": "#E5ECF6",
          "polar": {
           "angularaxis": {
            "gridcolor": "white",
            "linecolor": "white",
            "ticks": ""
           },
           "bgcolor": "#E5ECF6",
           "radialaxis": {
            "gridcolor": "white",
            "linecolor": "white",
            "ticks": ""
           }
          },
          "scene": {
           "xaxis": {
            "backgroundcolor": "#E5ECF6",
            "gridcolor": "white",
            "gridwidth": 2,
            "linecolor": "white",
            "showbackground": true,
            "ticks": "",
            "zerolinecolor": "white"
           },
           "yaxis": {
            "backgroundcolor": "#E5ECF6",
            "gridcolor": "white",
            "gridwidth": 2,
            "linecolor": "white",
            "showbackground": true,
            "ticks": "",
            "zerolinecolor": "white"
           },
           "zaxis": {
            "backgroundcolor": "#E5ECF6",
            "gridcolor": "white",
            "gridwidth": 2,
            "linecolor": "white",
            "showbackground": true,
            "ticks": "",
            "zerolinecolor": "white"
           }
          },
          "shapedefaults": {
           "line": {
            "color": "#2a3f5f"
           }
          },
          "ternary": {
           "aaxis": {
            "gridcolor": "white",
            "linecolor": "white",
            "ticks": ""
           },
           "baxis": {
            "gridcolor": "white",
            "linecolor": "white",
            "ticks": ""
           },
           "bgcolor": "#E5ECF6",
           "caxis": {
            "gridcolor": "white",
            "linecolor": "white",
            "ticks": ""
           }
          },
          "title": {
           "x": 0.05
          },
          "xaxis": {
           "automargin": true,
           "gridcolor": "white",
           "linecolor": "white",
           "ticks": "",
           "title": {
            "standoff": 15
           },
           "zerolinecolor": "white",
           "zerolinewidth": 2
          },
          "yaxis": {
           "automargin": true,
           "gridcolor": "white",
           "linecolor": "white",
           "ticks": "",
           "title": {
            "standoff": 15
           },
           "zerolinecolor": "white",
           "zerolinewidth": 2
          }
         }
        },
        "title": {
         "text": "Calories and Total Output per Week",
         "x": 0.5
        },
        "xaxis": {
         "anchor": "y",
         "domain": [
          0,
          0.94
         ],
         "title": {
          "text": "Week"
         }
        },
        "yaxis": {
         "anchor": "x",
         "domain": [
          0,
          1
         ],
         "title": {
          "text": "Calories Burned"
         }
        },
        "yaxis2": {
         "anchor": "x",
         "overlaying": "y",
         "side": "right",
         "title": {
          "text": "Total Output"
         }
        }
       }
      }
     },
     "metadata": {},
     "output_type": "display_data"
    }
   ],
   "source": [
    "def create_timeseries_figure(df: pd.DataFrame, frequency = \"W\") -> go.Figure:\n",
    "    \"\"\"\n",
    "    Creates a timeseries figure with two subplots. The first subplot graphs \n",
    "    the Total Output for the week. The second subplot graphs the Calories Burned \n",
    "    for the week.\n",
    "\n",
    "    Parameters\n",
    "    ----------\n",
    "        df : pd.DataFrame The dataframe to be plotted.\n",
    "        frequency : str The frequency of the group. Default is weekly.\n",
    "    \n",
    "    Returns\n",
    "    -------\n",
    "        go.Figure: The figure to be plotted.\n",
    "    \"\"\"\n",
    "    switcher = {\n",
    "        'D': 'Day',\n",
    "        'W': 'Week',\n",
    "        'M': 'Month'\n",
    "    }\n",
    "    freq = switcher.get(frequency, 'Week')\n",
    "    line = make_subplots(specs=[[{\"secondary_y\": True}]])\n",
    "    line.add_trace(go.Scatter(x=df['Workout Timestamp'], y=df['Calories Burned'],\n",
    "                                marker=dict(size=10, color='MediumPurple'),\n",
    "                                name='Total Calories'\n",
    "                            ),\n",
    "                            secondary_y=False\n",
    "    )\n",
    "    line.add_trace(go.Scatter(x=df['Workout Timestamp'], y=df['Total Output'],\n",
    "                                marker=dict(size=10, color='MediumSeaGreen'),\n",
    "                                name='Total Output'\n",
    "                            ),\n",
    "                    secondary_y=True\n",
    "    )\n",
    "\n",
    "    line.update_layout(\n",
    "        title=f\"Calories and Total Output per {freq}\",\n",
    "        title_x=0.5,\n",
    "        yaxis_title=\"Calories Burned\",\n",
    "    )\n",
    "\n",
    "    line.update_yaxes(title_text=\"Total Output\", secondary_y=True)\n",
    "    line.update_yaxes(title_text=\"Calories Burned\", secondary_y=False)\n",
    "    line.update_xaxes(title=f\"{freq}\")\n",
    "    return line\n",
    "create_timeseries_figure(group_data_by_timestamp())"
   ]
  },
  {
   "cell_type": "markdown",
   "metadata": {},
   "source": [
    "## Step 4: Add our plot to our dashboard"
   ]
  },
  {
   "cell_type": "markdown",
   "metadata": {},
   "source": [
    "We now have our data and our plot. We are ready to start building our dashboard. Below we will create the layout for the html to display the plot in.\n",
    "\n",
    "Notice we are using the dash html components to create the layout, dash core components (dcc) for interactive elements (datepicker and graph) and dash bootstrap components (dbc) for styling."
   ]
  },
  {
   "cell_type": "markdown",
   "metadata": {},
   "source": [
    "![callback-graph](callback_diagram.png)"
   ]
  },
  {
   "cell_type": "code",
   "execution_count": 22,
   "metadata": {},
   "outputs": [
    {
     "name": "stdout",
     "output_type": "stream",
     "text": [
      "Dash app running on http://127.0.0.1:8050/\n"
     ]
    },
    {
     "name": "stderr",
     "output_type": "stream",
     "text": [
      "c:\\Users\\jrami\\VSCodeProjects\\dash-presentation\\venv\\lib\\site-packages\\jupyter_dash\\jupyter_app.py:139: UserWarning:\n",
      "\n",
      "The 'environ['werkzeug.server.shutdown']' function is deprecated and will be removed in Werkzeug 2.1.\n",
      "\n"
     ]
    }
   ],
   "source": [
    "app = JupyterDash(__name__, external_stylesheets=[dbc.themes.BOOTSTRAP], suppress_callback_exceptions=True)\n",
    "\n",
    "def create_calories_and_output_card(df: pd.DataFrame) -> dbc.Card:\n",
    "    \"\"\"\n",
    "    Creates a dbc card with a title, DatePicker, RadioButton, and a timeseries figure.\n",
    "\n",
    "    Parameters\n",
    "    ----------\n",
    "        df : pd.DataFrame The dataframe to be plotted.\n",
    "\n",
    "    Returns\n",
    "    -------\n",
    "        dbc.Card: Card with header, datepicker, radio buttons and plot.\n",
    "    \"\"\"\n",
    "    return dbc.Card([\n",
    "        dbc.CardBody([\n",
    "            html.Center(html.H1(\"Weekly Calorie and Output Breakdown\", className='card-title')),\n",
    "            html.Center(\n",
    "                dcc.DatePickerRange(\n",
    "                    id='date-range-picker-2',\n",
    "                    min_date_allowed=df['Workout Timestamp'].min(),\n",
    "                    max_date_allowed=df['Workout Timestamp'].max(),\n",
    "                    initial_visible_month=df['Workout Timestamp'].min(),\n",
    "                    start_date=df['Workout Timestamp'].min(),\n",
    "                    end_date=df['Workout Timestamp'].max(),\n",
    "                    style={\n",
    "                        \"margin-top\": \"1rem\",\n",
    "                        \"margin-bottom\": \"1rem\"\n",
    "                    }\n",
    "                )\n",
    "            ),\n",
    "            html.Center(dcc.RadioItems(\n",
    "                options=[\n",
    "                    {'label': 'Daily', 'value': 'D'},\n",
    "                    {'label': 'Weekly', 'value': 'W'},\n",
    "                    {'label': 'Monthly', 'value': 'M'},\n",
    "                ],\n",
    "                value='W',\n",
    "                id='frequency-radio-2',\n",
    "                labelStyle={'padding-right': '20px'}\n",
    "            ),\n",
    "            ),\n",
    "            dcc.Graph(\n",
    "                id='calories-output-graph',\n",
    "            )\n",
    "        ])\n",
    "    ],\n",
    "        outline=True,\n",
    "        color='info',\n",
    "        style={\n",
    "            \"width\": \"50rem\",\n",
    "            \"margin-left\": \"10rem\",\n",
    "            \"margin-bottom\": \"1rem\"\n",
    "        }\n",
    "    )\n",
    "\n",
    "@app.callback(\n",
    "    Output('calories-output-graph', 'figure'),\n",
    "    [   Input('date-range-picker-2', 'start_date'),\n",
    "        Input('date-range-picker-2', 'end_date'),\n",
    "        Input('frequency-radio-2', 'value')]\n",
    ")\n",
    "def update_weekly_calories_burned_chart(start_date, end_date, frequency):\n",
    "    \"\"\"\n",
    "    Updates the weekly calories burned chart with the selected date range and frequency.\n",
    "    \"\"\"\n",
    "    grouped_df = group_data_by_timestamp(start_date, end_date, frequency)\n",
    "    return create_timeseries_figure(grouped_df, frequency)\n",
    "\n",
    "app.layout = html.Div(\n",
    "    children=[\n",
    "        dbc.Row([create_calories_and_output_card(df)])\n",
    "    ]\n",
    ")\n",
    "\n",
    "app.run_server(debug=True)"
   ]
  },
  {
   "cell_type": "markdown",
   "metadata": {},
   "source": [
    "## Step 5: Lets add a header"
   ]
  },
  {
   "cell_type": "code",
   "execution_count": 23,
   "metadata": {},
   "outputs": [
    {
     "name": "stdout",
     "output_type": "stream",
     "text": [
      "Dash app running on http://127.0.0.1:8050/\n"
     ]
    },
    {
     "name": "stderr",
     "output_type": "stream",
     "text": [
      "c:\\Users\\jrami\\VSCodeProjects\\dash-presentation\\venv\\lib\\site-packages\\jupyter_dash\\jupyter_app.py:139: UserWarning:\n",
      "\n",
      "The 'environ['werkzeug.server.shutdown']' function is deprecated and will be removed in Werkzeug 2.1.\n",
      "\n"
     ]
    }
   ],
   "source": [
    "titleCard = dbc.Card([\n",
    "        dbc.CardBody([\n",
    "            html.H1(\"Welcome to your workout dashboard, Jose!\", className='card-title'),\n",
    "            ])\n",
    "        ],\n",
    "        color='dark',\n",
    "        inverse=True,\n",
    "        style={\n",
    "            \"width\": \"55rem\",\n",
    "            \"margin-left\": \"1rem\",\n",
    "            \"margin-top\": \"1rem\",\n",
    "            \"margin-bottom\": \"1rem\"\n",
    "        }\n",
    "    )\n",
    "\n",
    "app.layout = html.Div(\n",
    "    children=[\n",
    "        dbc.Row([\n",
    "                html.Center(titleCard),\n",
    "                ],\n",
    "                justify=\"center\",\n",
    "                style={\n",
    "                    'margin-left': '0.5rem'\n",
    "                }\n",
    "        ),\n",
    "        dbc.Row([create_calories_and_output_card(df)])\n",
    "    ]\n",
    ")\n",
    "\n",
    "app.run_server(debug=True)"
   ]
  },
  {
   "cell_type": "markdown",
   "metadata": {},
   "source": [
    "## Step 6: Lets add a second plot"
   ]
  },
  {
   "cell_type": "markdown",
   "metadata": {},
   "source": [
    "Note: go back and change width of create_calories_and_output_chart to be 50rem"
   ]
  },
  {
   "cell_type": "code",
   "execution_count": 24,
   "metadata": {},
   "outputs": [
    {
     "data": {
      "application/vnd.plotly.v1+json": {
       "config": {
        "plotlyServerURL": "https://plot.ly"
       },
       "data": [
        {
         "domain": {
          "x": [
           0,
           1
          ],
          "y": [
           0,
           1
          ]
         },
         "hole": 0.2,
         "hovertemplate": "Fitness Discipline=%{label}<br>Length (minutes)=%{value}<extra></extra>",
         "labels": [
          "Strength",
          "Cycling",
          "Cycling",
          "Cycling",
          "Cycling",
          "Cycling",
          "Cycling",
          "Cycling",
          "Cycling",
          "Strength",
          "Cycling",
          "Yoga",
          "Strength",
          "Cycling",
          "Cycling",
          "Strength",
          "Cycling",
          "Running",
          "Strength",
          "Cycling",
          "Strength",
          "Cycling",
          "Strength",
          "Strength",
          "Stretching",
          "Cycling",
          "Yoga",
          "Cycling",
          "Cycling",
          "Cycling",
          "Strength",
          "Strength",
          "Strength",
          "Running",
          "Cycling",
          "Cycling",
          "Strength",
          "Cycling",
          "Strength",
          "Cycling",
          "Strength",
          "Cycling",
          "Strength",
          "Strength",
          "Cycling",
          "Cycling",
          "Cycling",
          "Meditation",
          "Strength",
          "Cycling",
          "Cycling",
          "Cycling",
          "Cycling",
          "Cycling",
          "Strength",
          "Strength",
          "Running",
          "Strength",
          "Strength",
          "Running",
          "Strength",
          "Strength",
          "Running",
          "Cycling",
          "Cycling",
          "Meditation",
          "Strength",
          "Strength",
          "Cycling",
          "Strength",
          "Strength",
          "Cycling",
          "Cycling",
          "Meditation",
          "Cycling",
          "Strength",
          "Cycling",
          "Strength",
          "Strength",
          "Strength",
          "Cardio",
          "Strength",
          "Stretching",
          "Meditation",
          "Stretching",
          "Strength",
          "Meditation",
          "Cycling",
          "Cycling",
          "Meditation",
          "Cycling",
          "Strength",
          "Cycling",
          "Cycling",
          "Running",
          "Meditation",
          "Cycling",
          "Cycling",
          "Strength",
          "Meditation",
          "Strength",
          "Strength",
          "Strength",
          "Strength",
          "Cycling",
          "Strength",
          "Strength",
          "Strength",
          "Strength",
          "Strength",
          "Cycling",
          "Cycling",
          "Cycling",
          "Cycling",
          "Strength",
          "Strength",
          "Strength",
          "Cardio",
          "Cycling",
          "Running",
          "Strength",
          "Strength",
          "Strength",
          "Strength",
          "Strength",
          "Cycling",
          "Cycling",
          "Strength",
          "Strength",
          "Cycling",
          "Strength",
          "Stretching",
          "Stretching",
          "Meditation",
          "Strength",
          "Cycling",
          "Cycling",
          "Cycling",
          "Strength",
          "Strength",
          "Cycling",
          "Cycling",
          "Strength",
          "Running",
          "Strength",
          "Running",
          "Strength",
          "Strength",
          "Running",
          "Strength",
          "Cycling",
          "Strength",
          "Stretching",
          "Stretching",
          "Cycling",
          "Strength",
          "Running",
          "Strength",
          "Strength",
          "Cycling",
          "Cycling",
          "Strength",
          "Strength",
          "Stretching",
          "Strength",
          "Cycling",
          "Strength",
          "Cycling",
          "Cycling",
          "Strength",
          "Cycling",
          "Strength",
          "Strength",
          "Cycling",
          "Cycling",
          "Strength",
          "Cycling",
          "Strength",
          "Meditation",
          "Meditation",
          "Meditation",
          "Yoga",
          "Stretching",
          "Strength",
          "Cycling",
          "Stretching",
          "Strength",
          "Strength",
          "Cycling",
          "Cycling",
          "Running",
          "Cycling",
          "Strength",
          "Strength",
          "Strength",
          "Strength",
          "Strength",
          "Running",
          "Yoga",
          "Stretching",
          "Cycling",
          "Strength",
          "Strength",
          "Strength",
          "Strength",
          "Strength",
          "Strength",
          "Strength",
          "Cycling",
          "Strength",
          "Strength",
          "Cycling",
          "Cycling",
          "Cycling",
          "Strength",
          "Strength",
          "Cycling",
          "Cycling",
          "Strength",
          "Cycling",
          "Strength",
          "Meditation",
          "Cycling",
          "Strength",
          "Cycling",
          "Cycling",
          "Strength",
          "Strength",
          "Strength",
          "Strength",
          "Strength",
          "Strength",
          "Stretching",
          "Cycling",
          "Cycling",
          "Strength",
          "Yoga",
          "Strength",
          "Cycling",
          "Stretching",
          "Cardio",
          "Running",
          "Strength",
          "Cycling",
          "Cycling",
          "Cycling",
          "Strength",
          "Stretching",
          "Running",
          "Strength",
          "Cycling",
          "Cycling",
          "Strength",
          "Strength",
          "Strength",
          "Stretching",
          "Cycling",
          "Strength",
          "Cycling",
          "Cycling",
          "Strength",
          "Running",
          "Meditation",
          "Cycling",
          "Cycling",
          "Strength",
          "Cycling",
          "Cycling",
          "Strength",
          "Running",
          "Cycling",
          "Cycling",
          "Cycling",
          "Cycling",
          "Strength",
          "Strength",
          "Meditation",
          "Stretching",
          "Cycling",
          "Strength",
          "Cycling",
          "Strength",
          "Cycling",
          "Cycling",
          "Cycling",
          "Cycling",
          "Strength",
          "Cycling",
          "Cycling",
          "Stretching",
          "Strength",
          "Running",
          "Strength",
          "Strength",
          "Meditation",
          "Cycling",
          "Strength",
          "Meditation",
          "Strength",
          "Cycling",
          "Strength",
          "Cycling",
          "Strength",
          "Yoga",
          "Strength",
          "Yoga",
          "Meditation",
          "Yoga",
          "Stretching",
          "Running",
          "Cycling",
          "Cycling",
          "Strength",
          "Strength",
          "Cycling",
          "Cycling",
          "Cycling",
          "Cycling",
          "Yoga",
          "Meditation",
          "Strength",
          "Cycling",
          "Cycling",
          "Meditation",
          "Strength",
          "Stretching",
          "Strength",
          "Strength",
          "Running",
          "Strength",
          "Cycling",
          "Strength",
          "Strength",
          "Strength",
          "Cycling",
          "Running",
          "Strength",
          "Meditation",
          "Cycling",
          "Strength",
          "Stretching",
          "Cycling",
          "Stretching",
          "Running",
          "Strength",
          "Cycling",
          "Strength",
          "Cycling",
          "Strength",
          "Strength",
          "Cycling",
          "Strength",
          "Cycling",
          "Strength",
          "Cycling",
          "Stretching",
          "Cycling",
          "Strength",
          "Running",
          "Strength",
          "Strength",
          "Cycling",
          "Running",
          "Stretching",
          "Cycling",
          "Cycling",
          "Cycling",
          "Strength",
          "Cycling",
          "Cycling",
          "Strength",
          "Stretching",
          "Strength",
          "Strength",
          "Stretching",
          "Cycling",
          "Running",
          "Stretching",
          "Cycling",
          "Cycling",
          "Strength",
          "Stretching",
          "Strength",
          "Cycling",
          "Strength",
          "Cycling",
          "Strength",
          "Strength",
          "Strength",
          "Strength",
          "Cycling",
          "Yoga",
          "Meditation",
          "Cycling",
          "Strength",
          "Stretching",
          "Running",
          "Cycling",
          "Strength",
          "Running",
          "Strength",
          "Stretching",
          "Cycling",
          "Cycling",
          "Strength",
          "Cycling",
          "Strength",
          "Strength",
          "Cycling",
          "Cycling",
          "Stretching",
          "Cycling",
          "Cycling",
          "Strength",
          "Yoga",
          "Cycling",
          "Strength",
          "Running",
          "Strength",
          "Strength",
          "Strength",
          "Strength",
          "Cardio",
          "Running",
          "Stretching",
          "Cycling",
          "Cycling",
          "Stretching",
          "Stretching",
          "Running"
         ],
         "legendgroup": "",
         "name": "",
         "showlegend": true,
         "textinfo": "percent+label",
         "textposition": "inside",
         "type": "pie",
         "values": [
          20,
          45,
          5,
          30,
          20,
          5,
          45,
          30,
          20,
          10,
          30,
          15,
          10,
          5,
          15,
          30,
          5,
          30,
          10,
          30,
          20,
          30,
          10,
          10,
          5,
          5,
          30,
          30,
          5,
          30,
          20,
          30,
          5,
          30,
          30,
          30,
          20,
          10,
          10,
          5,
          10,
          20,
          20,
          20,
          5,
          30,
          30,
          10,
          10,
          30,
          5,
          5,
          20,
          30,
          30,
          5,
          30,
          20,
          10,
          45,
          20,
          10,
          30,
          30,
          30,
          10,
          20,
          20,
          10,
          10,
          20,
          20,
          30,
          5,
          5,
          20,
          30,
          10,
          20,
          10,
          20,
          20,
          5,
          5,
          5,
          20,
          5,
          30,
          30,
          10,
          10,
          20,
          10,
          30,
          30,
          5,
          30,
          10,
          10,
          5,
          10,
          10,
          30,
          10,
          10,
          20,
          10,
          5,
          5,
          5,
          30,
          30,
          20,
          45,
          10,
          20,
          20,
          5,
          5,
          30,
          20,
          20,
          20,
          20,
          20,
          5,
          30,
          10,
          10,
          5,
          20,
          5,
          10,
          5,
          15,
          10,
          45,
          30,
          10,
          10,
          30,
          10,
          5,
          30,
          30,
          30,
          5,
          20,
          30,
          5,
          30,
          20,
          10,
          5,
          30,
          10,
          30,
          10,
          10,
          5,
          30,
          20,
          10,
          5,
          10,
          20,
          10,
          30,
          5,
          20,
          30,
          10,
          20,
          5,
          20,
          10,
          30,
          20,
          5,
          10,
          10,
          20,
          5,
          20,
          60,
          5,
          10,
          20,
          30,
          30,
          30,
          45,
          5,
          10,
          20,
          10,
          20,
          20,
          20,
          10,
          5,
          10,
          5,
          10,
          20,
          20,
          10,
          5,
          30,
          10,
          20,
          10,
          30,
          30,
          20,
          10,
          20,
          30,
          15,
          30,
          30,
          10,
          30,
          10,
          30,
          30,
          20,
          20,
          20,
          30,
          5,
          10,
          5,
          10,
          5,
          20,
          15,
          10,
          30,
          10,
          20,
          30,
          5,
          45,
          30,
          30,
          10,
          5,
          30,
          10,
          30,
          5,
          5,
          10,
          5,
          5,
          20,
          20,
          20,
          30,
          20,
          30,
          10,
          30,
          20,
          10,
          60,
          10,
          20,
          20,
          10,
          5,
          30,
          30,
          20,
          20,
          5,
          10,
          30,
          15,
          20,
          20,
          15,
          15,
          30,
          5,
          20,
          15,
          20,
          10,
          30,
          30,
          30,
          20,
          20,
          30,
          10,
          10,
          30,
          15,
          30,
          30,
          10,
          30,
          5,
          30,
          10,
          20,
          10,
          20,
          45,
          30,
          5,
          20,
          20,
          30,
          5,
          30,
          15,
          10,
          10,
          30,
          30,
          5,
          15,
          5,
          10,
          20,
          30,
          20,
          5,
          10,
          10,
          5,
          30,
          30,
          20,
          5,
          45,
          5,
          5,
          30,
          5,
          20,
          5,
          20,
          10,
          45,
          5,
          10,
          30,
          20,
          5,
          10,
          20,
          5,
          30,
          5,
          30,
          20,
          5,
          5,
          30,
          5,
          30,
          20,
          60,
          20,
          30,
          20,
          20,
          5,
          30,
          20,
          5,
          30,
          20,
          5,
          30,
          20,
          20,
          10,
          20,
          5,
          30,
          30,
          10,
          20,
          15,
          10,
          15,
          30,
          5,
          30,
          10,
          5,
          30,
          5,
          20,
          30,
          20,
          5,
          5,
          30,
          20,
          5,
          5,
          10,
          5,
          20,
          5,
          30,
          20,
          10,
          20,
          30,
          10,
          45,
          30,
          20,
          20,
          20,
          20,
          20,
          15,
          5,
          30,
          5,
          5,
          20
         ]
        }
       ],
       "layout": {
        "legend": {
         "tracegroupgap": 0
        },
        "template": {
         "data": {
          "bar": [
           {
            "error_x": {
             "color": "#2a3f5f"
            },
            "error_y": {
             "color": "#2a3f5f"
            },
            "marker": {
             "line": {
              "color": "#E5ECF6",
              "width": 0.5
             },
             "pattern": {
              "fillmode": "overlay",
              "size": 10,
              "solidity": 0.2
             }
            },
            "type": "bar"
           }
          ],
          "barpolar": [
           {
            "marker": {
             "line": {
              "color": "#E5ECF6",
              "width": 0.5
             },
             "pattern": {
              "fillmode": "overlay",
              "size": 10,
              "solidity": 0.2
             }
            },
            "type": "barpolar"
           }
          ],
          "carpet": [
           {
            "aaxis": {
             "endlinecolor": "#2a3f5f",
             "gridcolor": "white",
             "linecolor": "white",
             "minorgridcolor": "white",
             "startlinecolor": "#2a3f5f"
            },
            "baxis": {
             "endlinecolor": "#2a3f5f",
             "gridcolor": "white",
             "linecolor": "white",
             "minorgridcolor": "white",
             "startlinecolor": "#2a3f5f"
            },
            "type": "carpet"
           }
          ],
          "choropleth": [
           {
            "colorbar": {
             "outlinewidth": 0,
             "ticks": ""
            },
            "type": "choropleth"
           }
          ],
          "contour": [
           {
            "colorbar": {
             "outlinewidth": 0,
             "ticks": ""
            },
            "colorscale": [
             [
              0,
              "#0d0887"
             ],
             [
              0.1111111111111111,
              "#46039f"
             ],
             [
              0.2222222222222222,
              "#7201a8"
             ],
             [
              0.3333333333333333,
              "#9c179e"
             ],
             [
              0.4444444444444444,
              "#bd3786"
             ],
             [
              0.5555555555555556,
              "#d8576b"
             ],
             [
              0.6666666666666666,
              "#ed7953"
             ],
             [
              0.7777777777777778,
              "#fb9f3a"
             ],
             [
              0.8888888888888888,
              "#fdca26"
             ],
             [
              1,
              "#f0f921"
             ]
            ],
            "type": "contour"
           }
          ],
          "contourcarpet": [
           {
            "colorbar": {
             "outlinewidth": 0,
             "ticks": ""
            },
            "type": "contourcarpet"
           }
          ],
          "heatmap": [
           {
            "colorbar": {
             "outlinewidth": 0,
             "ticks": ""
            },
            "colorscale": [
             [
              0,
              "#0d0887"
             ],
             [
              0.1111111111111111,
              "#46039f"
             ],
             [
              0.2222222222222222,
              "#7201a8"
             ],
             [
              0.3333333333333333,
              "#9c179e"
             ],
             [
              0.4444444444444444,
              "#bd3786"
             ],
             [
              0.5555555555555556,
              "#d8576b"
             ],
             [
              0.6666666666666666,
              "#ed7953"
             ],
             [
              0.7777777777777778,
              "#fb9f3a"
             ],
             [
              0.8888888888888888,
              "#fdca26"
             ],
             [
              1,
              "#f0f921"
             ]
            ],
            "type": "heatmap"
           }
          ],
          "heatmapgl": [
           {
            "colorbar": {
             "outlinewidth": 0,
             "ticks": ""
            },
            "colorscale": [
             [
              0,
              "#0d0887"
             ],
             [
              0.1111111111111111,
              "#46039f"
             ],
             [
              0.2222222222222222,
              "#7201a8"
             ],
             [
              0.3333333333333333,
              "#9c179e"
             ],
             [
              0.4444444444444444,
              "#bd3786"
             ],
             [
              0.5555555555555556,
              "#d8576b"
             ],
             [
              0.6666666666666666,
              "#ed7953"
             ],
             [
              0.7777777777777778,
              "#fb9f3a"
             ],
             [
              0.8888888888888888,
              "#fdca26"
             ],
             [
              1,
              "#f0f921"
             ]
            ],
            "type": "heatmapgl"
           }
          ],
          "histogram": [
           {
            "marker": {
             "pattern": {
              "fillmode": "overlay",
              "size": 10,
              "solidity": 0.2
             }
            },
            "type": "histogram"
           }
          ],
          "histogram2d": [
           {
            "colorbar": {
             "outlinewidth": 0,
             "ticks": ""
            },
            "colorscale": [
             [
              0,
              "#0d0887"
             ],
             [
              0.1111111111111111,
              "#46039f"
             ],
             [
              0.2222222222222222,
              "#7201a8"
             ],
             [
              0.3333333333333333,
              "#9c179e"
             ],
             [
              0.4444444444444444,
              "#bd3786"
             ],
             [
              0.5555555555555556,
              "#d8576b"
             ],
             [
              0.6666666666666666,
              "#ed7953"
             ],
             [
              0.7777777777777778,
              "#fb9f3a"
             ],
             [
              0.8888888888888888,
              "#fdca26"
             ],
             [
              1,
              "#f0f921"
             ]
            ],
            "type": "histogram2d"
           }
          ],
          "histogram2dcontour": [
           {
            "colorbar": {
             "outlinewidth": 0,
             "ticks": ""
            },
            "colorscale": [
             [
              0,
              "#0d0887"
             ],
             [
              0.1111111111111111,
              "#46039f"
             ],
             [
              0.2222222222222222,
              "#7201a8"
             ],
             [
              0.3333333333333333,
              "#9c179e"
             ],
             [
              0.4444444444444444,
              "#bd3786"
             ],
             [
              0.5555555555555556,
              "#d8576b"
             ],
             [
              0.6666666666666666,
              "#ed7953"
             ],
             [
              0.7777777777777778,
              "#fb9f3a"
             ],
             [
              0.8888888888888888,
              "#fdca26"
             ],
             [
              1,
              "#f0f921"
             ]
            ],
            "type": "histogram2dcontour"
           }
          ],
          "mesh3d": [
           {
            "colorbar": {
             "outlinewidth": 0,
             "ticks": ""
            },
            "type": "mesh3d"
           }
          ],
          "parcoords": [
           {
            "line": {
             "colorbar": {
              "outlinewidth": 0,
              "ticks": ""
             }
            },
            "type": "parcoords"
           }
          ],
          "pie": [
           {
            "automargin": true,
            "type": "pie"
           }
          ],
          "scatter": [
           {
            "marker": {
             "colorbar": {
              "outlinewidth": 0,
              "ticks": ""
             }
            },
            "type": "scatter"
           }
          ],
          "scatter3d": [
           {
            "line": {
             "colorbar": {
              "outlinewidth": 0,
              "ticks": ""
             }
            },
            "marker": {
             "colorbar": {
              "outlinewidth": 0,
              "ticks": ""
             }
            },
            "type": "scatter3d"
           }
          ],
          "scattercarpet": [
           {
            "marker": {
             "colorbar": {
              "outlinewidth": 0,
              "ticks": ""
             }
            },
            "type": "scattercarpet"
           }
          ],
          "scattergeo": [
           {
            "marker": {
             "colorbar": {
              "outlinewidth": 0,
              "ticks": ""
             }
            },
            "type": "scattergeo"
           }
          ],
          "scattergl": [
           {
            "marker": {
             "colorbar": {
              "outlinewidth": 0,
              "ticks": ""
             }
            },
            "type": "scattergl"
           }
          ],
          "scattermapbox": [
           {
            "marker": {
             "colorbar": {
              "outlinewidth": 0,
              "ticks": ""
             }
            },
            "type": "scattermapbox"
           }
          ],
          "scatterpolar": [
           {
            "marker": {
             "colorbar": {
              "outlinewidth": 0,
              "ticks": ""
             }
            },
            "type": "scatterpolar"
           }
          ],
          "scatterpolargl": [
           {
            "marker": {
             "colorbar": {
              "outlinewidth": 0,
              "ticks": ""
             }
            },
            "type": "scatterpolargl"
           }
          ],
          "scatterternary": [
           {
            "marker": {
             "colorbar": {
              "outlinewidth": 0,
              "ticks": ""
             }
            },
            "type": "scatterternary"
           }
          ],
          "surface": [
           {
            "colorbar": {
             "outlinewidth": 0,
             "ticks": ""
            },
            "colorscale": [
             [
              0,
              "#0d0887"
             ],
             [
              0.1111111111111111,
              "#46039f"
             ],
             [
              0.2222222222222222,
              "#7201a8"
             ],
             [
              0.3333333333333333,
              "#9c179e"
             ],
             [
              0.4444444444444444,
              "#bd3786"
             ],
             [
              0.5555555555555556,
              "#d8576b"
             ],
             [
              0.6666666666666666,
              "#ed7953"
             ],
             [
              0.7777777777777778,
              "#fb9f3a"
             ],
             [
              0.8888888888888888,
              "#fdca26"
             ],
             [
              1,
              "#f0f921"
             ]
            ],
            "type": "surface"
           }
          ],
          "table": [
           {
            "cells": {
             "fill": {
              "color": "#EBF0F8"
             },
             "line": {
              "color": "white"
             }
            },
            "header": {
             "fill": {
              "color": "#C8D4E3"
             },
             "line": {
              "color": "white"
             }
            },
            "type": "table"
           }
          ]
         },
         "layout": {
          "annotationdefaults": {
           "arrowcolor": "#2a3f5f",
           "arrowhead": 0,
           "arrowwidth": 1
          },
          "autotypenumbers": "strict",
          "coloraxis": {
           "colorbar": {
            "outlinewidth": 0,
            "ticks": ""
           }
          },
          "colorscale": {
           "diverging": [
            [
             0,
             "#8e0152"
            ],
            [
             0.1,
             "#c51b7d"
            ],
            [
             0.2,
             "#de77ae"
            ],
            [
             0.3,
             "#f1b6da"
            ],
            [
             0.4,
             "#fde0ef"
            ],
            [
             0.5,
             "#f7f7f7"
            ],
            [
             0.6,
             "#e6f5d0"
            ],
            [
             0.7,
             "#b8e186"
            ],
            [
             0.8,
             "#7fbc41"
            ],
            [
             0.9,
             "#4d9221"
            ],
            [
             1,
             "#276419"
            ]
           ],
           "sequential": [
            [
             0,
             "#0d0887"
            ],
            [
             0.1111111111111111,
             "#46039f"
            ],
            [
             0.2222222222222222,
             "#7201a8"
            ],
            [
             0.3333333333333333,
             "#9c179e"
            ],
            [
             0.4444444444444444,
             "#bd3786"
            ],
            [
             0.5555555555555556,
             "#d8576b"
            ],
            [
             0.6666666666666666,
             "#ed7953"
            ],
            [
             0.7777777777777778,
             "#fb9f3a"
            ],
            [
             0.8888888888888888,
             "#fdca26"
            ],
            [
             1,
             "#f0f921"
            ]
           ],
           "sequentialminus": [
            [
             0,
             "#0d0887"
            ],
            [
             0.1111111111111111,
             "#46039f"
            ],
            [
             0.2222222222222222,
             "#7201a8"
            ],
            [
             0.3333333333333333,
             "#9c179e"
            ],
            [
             0.4444444444444444,
             "#bd3786"
            ],
            [
             0.5555555555555556,
             "#d8576b"
            ],
            [
             0.6666666666666666,
             "#ed7953"
            ],
            [
             0.7777777777777778,
             "#fb9f3a"
            ],
            [
             0.8888888888888888,
             "#fdca26"
            ],
            [
             1,
             "#f0f921"
            ]
           ]
          },
          "colorway": [
           "#636efa",
           "#EF553B",
           "#00cc96",
           "#ab63fa",
           "#FFA15A",
           "#19d3f3",
           "#FF6692",
           "#B6E880",
           "#FF97FF",
           "#FECB52"
          ],
          "font": {
           "color": "#2a3f5f"
          },
          "geo": {
           "bgcolor": "white",
           "lakecolor": "white",
           "landcolor": "#E5ECF6",
           "showlakes": true,
           "showland": true,
           "subunitcolor": "white"
          },
          "hoverlabel": {
           "align": "left"
          },
          "hovermode": "closest",
          "mapbox": {
           "style": "light"
          },
          "paper_bgcolor": "white",
          "plot_bgcolor": "#E5ECF6",
          "polar": {
           "angularaxis": {
            "gridcolor": "white",
            "linecolor": "white",
            "ticks": ""
           },
           "bgcolor": "#E5ECF6",
           "radialaxis": {
            "gridcolor": "white",
            "linecolor": "white",
            "ticks": ""
           }
          },
          "scene": {
           "xaxis": {
            "backgroundcolor": "#E5ECF6",
            "gridcolor": "white",
            "gridwidth": 2,
            "linecolor": "white",
            "showbackground": true,
            "ticks": "",
            "zerolinecolor": "white"
           },
           "yaxis": {
            "backgroundcolor": "#E5ECF6",
            "gridcolor": "white",
            "gridwidth": 2,
            "linecolor": "white",
            "showbackground": true,
            "ticks": "",
            "zerolinecolor": "white"
           },
           "zaxis": {
            "backgroundcolor": "#E5ECF6",
            "gridcolor": "white",
            "gridwidth": 2,
            "linecolor": "white",
            "showbackground": true,
            "ticks": "",
            "zerolinecolor": "white"
           }
          },
          "shapedefaults": {
           "line": {
            "color": "#2a3f5f"
           }
          },
          "ternary": {
           "aaxis": {
            "gridcolor": "white",
            "linecolor": "white",
            "ticks": ""
           },
           "baxis": {
            "gridcolor": "white",
            "linecolor": "white",
            "ticks": ""
           },
           "bgcolor": "#E5ECF6",
           "caxis": {
            "gridcolor": "white",
            "linecolor": "white",
            "ticks": ""
           }
          },
          "title": {
           "x": 0.05
          },
          "xaxis": {
           "automargin": true,
           "gridcolor": "white",
           "linecolor": "white",
           "ticks": "",
           "title": {
            "standoff": 15
           },
           "zerolinecolor": "white",
           "zerolinewidth": 2
          },
          "yaxis": {
           "automargin": true,
           "gridcolor": "white",
           "linecolor": "white",
           "ticks": "",
           "title": {
            "standoff": 15
           },
           "zerolinecolor": "white",
           "zerolinewidth": 2
          }
         }
        },
        "title": {
         "text": "Time Spent Per Fitness Discipline",
         "x": 0.5
        },
        "width": 1600
       }
      }
     },
     "metadata": {},
     "output_type": "display_data"
    }
   ],
   "source": [
    "def get_fitness_discipline_chart(df: pd.DataFrame) -> px.pie:\n",
    "    \"\"\"\n",
    "    Returns a pie chart of the percentage of time spent per fitness discipline.\n",
    "\n",
    "    Parameters\n",
    "    ----------\n",
    "        df : pd.DataFrame The dataframe to be plotted.\n",
    "    \n",
    "    Returns\n",
    "    -------\n",
    "        px.pie: The pie chart to be plotted.\n",
    "    \"\"\"\n",
    "    pie = px.pie(\n",
    "        df,\n",
    "        values=\"Length (minutes)\",\n",
    "        names=\"Fitness Discipline\",\n",
    "        title=\"Time Spent Per Fitness Discipline\",\n",
    "        hole=0.2,\n",
    "    )\n",
    "    pie.update_traces(textposition='inside', textinfo='percent+label')\n",
    "    pie.update_layout(width=1600)\n",
    "    pie.update_layout(title_x=0.5)\n",
    "    return pie\n",
    "\n",
    "get_fitness_discipline_chart(df)"
   ]
  },
  {
   "cell_type": "code",
   "execution_count": 25,
   "metadata": {},
   "outputs": [
    {
     "name": "stdout",
     "output_type": "stream",
     "text": [
      "Dash app running on http://127.0.0.1:8050/\n"
     ]
    },
    {
     "name": "stderr",
     "output_type": "stream",
     "text": [
      "c:\\Users\\jrami\\VSCodeProjects\\dash-presentation\\venv\\lib\\site-packages\\jupyter_dash\\jupyter_app.py:139: UserWarning:\n",
      "\n",
      "The 'environ['werkzeug.server.shutdown']' function is deprecated and will be removed in Werkzeug 2.1.\n",
      "\n"
     ]
    }
   ],
   "source": [
    "\n",
    "def create_discipline_card(df: pd.DataFrame) -> dbc.Card:\n",
    "    \"\"\"\n",
    "    Returns a dbc card with a title, body text and pie chart of \n",
    "    the percentage of time spent per fitness discipline.\n",
    "\n",
    "    Parameters\n",
    "    ----------\n",
    "        df : pd.DataFrame The dataframe to be plotted.\n",
    "\n",
    "    Returns\n",
    "    -------\n",
    "        dbc.Card: Card with header, body text and plot.\n",
    "    \n",
    "    \"\"\"\n",
    "    return dbc.Card([\n",
    "        dbc.CardBody([\n",
    "            html.Center(html.H1(\"Fitness Discipline Breakdown\", className='card-title')),\n",
    "            html.P(\"This chart shows the percentage of time spent in minutes for each fitness discipline.\", className='card-body'),\n",
    "            dcc.Graph(\n",
    "                id='fitness-discipline-by-calories-chart',\n",
    "                figure=get_fitness_discipline_chart(df)\n",
    "            )\n",
    "        ])\n",
    "    ],\n",
    "        color='info',\n",
    "        outline=True,\n",
    "        style={\n",
    "            \"width\": \"50rem\",\n",
    "            \"margin-top\": \"1rem\",\n",
    "            \"margin-left\": \"5rem\",\n",
    "            \"margin-bottom\": \"1rem\"\n",
    "        }\n",
    "    )\n",
    "\n",
    "app.layout = html.Div(\n",
    "    children=[\n",
    "        dbc.Row([\n",
    "                html.Center(titleCard),\n",
    "                ],\n",
    "                justify=\"center\",\n",
    "                style={\n",
    "                    'margin-left': '0.5rem'\n",
    "                }\n",
    "        ),\n",
    "        dbc.Row([\n",
    "            create_calories_and_output_card(df),\n",
    "            create_discipline_card(df)\n",
    "        ])\n",
    "    ]\n",
    ")\n",
    "\n",
    "app.run_server(debug=True)"
   ]
  },
  {
   "cell_type": "markdown",
   "metadata": {},
   "source": [
    "## Step 7: Lets finish off our dashboard with a final plot on its own row"
   ]
  },
  {
   "cell_type": "code",
   "execution_count": 26,
   "metadata": {},
   "outputs": [
    {
     "data": {
      "application/vnd.plotly.v1+json": {
       "config": {
        "plotlyServerURL": "https://plot.ly"
       },
       "data": [
        {
         "alignmentgroup": "True",
         "hovertemplate": "Fitness Discipline=Meditation<br>Instructor Name=%{x}<br>count=%{y}<extra></extra>",
         "legendgroup": "Meditation",
         "marker": {
          "color": "#636efa",
          "pattern": {
           "shape": ""
          }
         },
         "name": "Meditation",
         "offsetgroup": "Meditation",
         "orientation": "v",
         "showlegend": true,
         "textposition": "auto",
         "type": "bar",
         "x": [
          "Aditi Shah",
          "Anna Greenberg",
          "Chelsea Jackson Roberts",
          "Kristin McGee",
          "Ross Rayburn"
         ],
         "xaxis": "x",
         "y": [
          5,
          12,
          1,
          2,
          2
         ],
         "yaxis": "y"
        },
        {
         "alignmentgroup": "True",
         "hovertemplate": "Fitness Discipline=Yoga<br>Instructor Name=%{x}<br>count=%{y}<extra></extra>",
         "legendgroup": "Yoga",
         "marker": {
          "color": "#EF553B",
          "pattern": {
           "shape": ""
          }
         },
         "name": "Yoga",
         "offsetgroup": "Yoga",
         "orientation": "v",
         "showlegend": true,
         "textposition": "auto",
         "type": "bar",
         "x": [
          "Aditi Shah",
          "Anna Greenberg",
          "Chelsea Jackson Roberts",
          "Denis Morton",
          "Kristin McGee",
          "Mariana Fernandez"
         ],
         "xaxis": "x",
         "y": [
          3,
          1,
          1,
          1,
          2,
          3
         ],
         "yaxis": "y"
        },
        {
         "alignmentgroup": "True",
         "hovertemplate": "Fitness Discipline=Strength<br>Instructor Name=%{x}<br>count=%{y}<extra></extra>",
         "legendgroup": "Strength",
         "marker": {
          "color": "#00cc96",
          "pattern": {
           "shape": ""
          }
         },
         "name": "Strength",
         "offsetgroup": "Strength",
         "orientation": "v",
         "showlegend": true,
         "textposition": "auto",
         "type": "bar",
         "x": [
          "Adrian Williams",
          "Andy Speer",
          "Ben Alldis",
          "Callie Gullickson",
          "Chase Tucker",
          "Cody Rigsby",
          "Daniel McKenna",
          "Emma Lovewell",
          "Jess Sims",
          "Matty Maggiacomo",
          "Olivia Amato",
          "Rad Lopez",
          "Rebecca Kennedy",
          "Robin Arzon",
          "Selena Samuela"
         ],
         "xaxis": "x",
         "y": [
          16,
          7,
          16,
          11,
          16,
          1,
          3,
          6,
          1,
          13,
          17,
          40,
          8,
          7,
          11
         ],
         "yaxis": "y"
        },
        {
         "alignmentgroup": "True",
         "hovertemplate": "Fitness Discipline=Stretching<br>Instructor Name=%{x}<br>count=%{y}<extra></extra>",
         "legendgroup": "Stretching",
         "marker": {
          "color": "#ab63fa",
          "pattern": {
           "shape": ""
          }
         },
         "name": "Stretching",
         "offsetgroup": "Stretching",
         "orientation": "v",
         "showlegend": true,
         "textposition": "auto",
         "type": "bar",
         "x": [
          "Adrian Williams",
          "Ally Love",
          "Ben Alldis",
          "Emma Lovewell",
          "Jess Sims",
          "Leanne Hainsby",
          "Matt Wilpers",
          "Matty Maggiacomo",
          "Olivia Amato",
          "Sam Yo",
          "Selena Samuela"
         ],
         "xaxis": "x",
         "y": [
          1,
          1,
          7,
          3,
          4,
          3,
          3,
          5,
          1,
          2,
          3
         ],
         "yaxis": "y"
        },
        {
         "alignmentgroup": "True",
         "hovertemplate": "Fitness Discipline=Cycling<br>Instructor Name=%{x}<br>count=%{y}<extra></extra>",
         "legendgroup": "Cycling",
         "marker": {
          "color": "#FFA15A",
          "pattern": {
           "shape": ""
          }
         },
         "name": "Cycling",
         "offsetgroup": "Cycling",
         "orientation": "v",
         "showlegend": true,
         "textposition": "auto",
         "type": "bar",
         "x": [
          "Alex Toussaint",
          "Ally Love",
          "Ben Alldis",
          "Bradley Rose",
          "Camila Ramon",
          "Christine D'Ercole",
          "Cody Rigsby",
          "Denis Morton",
          "Emma Lovewell",
          "Erik Jager",
          "Hannah Corbin",
          "Hannah Frankson",
          "Jenn Sherman",
          "Jess King",
          "Kendall Toole",
          "Leanne Hainsby",
          "Matt Wilpers",
          "Olivia Amato",
          "Robin Arzon",
          "Sam Yo",
          "Tunde Oyeneyin"
         ],
         "xaxis": "x",
         "y": [
          19,
          16,
          2,
          1,
          5,
          3,
          5,
          7,
          10,
          1,
          3,
          2,
          2,
          12,
          14,
          3,
          12,
          12,
          4,
          12,
          4
         ],
         "yaxis": "y"
        },
        {
         "alignmentgroup": "True",
         "hovertemplate": "Fitness Discipline=Running<br>Instructor Name=%{x}<br>count=%{y}<extra></extra>",
         "legendgroup": "Running",
         "marker": {
          "color": "#19d3f3",
          "pattern": {
           "shape": ""
          }
         },
         "name": "Running",
         "offsetgroup": "Running",
         "orientation": "v",
         "showlegend": true,
         "textposition": "auto",
         "type": "bar",
         "x": [
          "Becs Gentry",
          "Chase Tucker",
          "Jess King",
          "Jess Sims",
          "Matt Wilpers",
          "Matty Maggiacomo",
          "Olivia Amato",
          "Rebecca Kennedy",
          "Robin Arzon",
          "Selena Samuela"
         ],
         "xaxis": "x",
         "y": [
          3,
          5,
          1,
          1,
          1,
          5,
          3,
          1,
          4,
          6
         ],
         "yaxis": "y"
        },
        {
         "alignmentgroup": "True",
         "hovertemplate": "Fitness Discipline=Cardio<br>Instructor Name=%{x}<br>count=%{y}<extra></extra>",
         "legendgroup": "Cardio",
         "marker": {
          "color": "#FF6692",
          "pattern": {
           "shape": ""
          }
         },
         "name": "Cardio",
         "offsetgroup": "Cardio",
         "orientation": "v",
         "showlegend": true,
         "textposition": "auto",
         "type": "bar",
         "x": [
          "Kendall Toole",
          "Rad Lopez",
          "Selena Samuela"
         ],
         "xaxis": "x",
         "y": [
          1,
          2,
          1
         ],
         "yaxis": "y"
        }
       ],
       "layout": {
        "barmode": "relative",
        "legend": {
         "title": {
          "text": "Fitness Discipline"
         },
         "tracegroupgap": 0
        },
        "template": {
         "data": {
          "bar": [
           {
            "error_x": {
             "color": "#2a3f5f"
            },
            "error_y": {
             "color": "#2a3f5f"
            },
            "marker": {
             "line": {
              "color": "#E5ECF6",
              "width": 0.5
             },
             "pattern": {
              "fillmode": "overlay",
              "size": 10,
              "solidity": 0.2
             }
            },
            "type": "bar"
           }
          ],
          "barpolar": [
           {
            "marker": {
             "line": {
              "color": "#E5ECF6",
              "width": 0.5
             },
             "pattern": {
              "fillmode": "overlay",
              "size": 10,
              "solidity": 0.2
             }
            },
            "type": "barpolar"
           }
          ],
          "carpet": [
           {
            "aaxis": {
             "endlinecolor": "#2a3f5f",
             "gridcolor": "white",
             "linecolor": "white",
             "minorgridcolor": "white",
             "startlinecolor": "#2a3f5f"
            },
            "baxis": {
             "endlinecolor": "#2a3f5f",
             "gridcolor": "white",
             "linecolor": "white",
             "minorgridcolor": "white",
             "startlinecolor": "#2a3f5f"
            },
            "type": "carpet"
           }
          ],
          "choropleth": [
           {
            "colorbar": {
             "outlinewidth": 0,
             "ticks": ""
            },
            "type": "choropleth"
           }
          ],
          "contour": [
           {
            "colorbar": {
             "outlinewidth": 0,
             "ticks": ""
            },
            "colorscale": [
             [
              0,
              "#0d0887"
             ],
             [
              0.1111111111111111,
              "#46039f"
             ],
             [
              0.2222222222222222,
              "#7201a8"
             ],
             [
              0.3333333333333333,
              "#9c179e"
             ],
             [
              0.4444444444444444,
              "#bd3786"
             ],
             [
              0.5555555555555556,
              "#d8576b"
             ],
             [
              0.6666666666666666,
              "#ed7953"
             ],
             [
              0.7777777777777778,
              "#fb9f3a"
             ],
             [
              0.8888888888888888,
              "#fdca26"
             ],
             [
              1,
              "#f0f921"
             ]
            ],
            "type": "contour"
           }
          ],
          "contourcarpet": [
           {
            "colorbar": {
             "outlinewidth": 0,
             "ticks": ""
            },
            "type": "contourcarpet"
           }
          ],
          "heatmap": [
           {
            "colorbar": {
             "outlinewidth": 0,
             "ticks": ""
            },
            "colorscale": [
             [
              0,
              "#0d0887"
             ],
             [
              0.1111111111111111,
              "#46039f"
             ],
             [
              0.2222222222222222,
              "#7201a8"
             ],
             [
              0.3333333333333333,
              "#9c179e"
             ],
             [
              0.4444444444444444,
              "#bd3786"
             ],
             [
              0.5555555555555556,
              "#d8576b"
             ],
             [
              0.6666666666666666,
              "#ed7953"
             ],
             [
              0.7777777777777778,
              "#fb9f3a"
             ],
             [
              0.8888888888888888,
              "#fdca26"
             ],
             [
              1,
              "#f0f921"
             ]
            ],
            "type": "heatmap"
           }
          ],
          "heatmapgl": [
           {
            "colorbar": {
             "outlinewidth": 0,
             "ticks": ""
            },
            "colorscale": [
             [
              0,
              "#0d0887"
             ],
             [
              0.1111111111111111,
              "#46039f"
             ],
             [
              0.2222222222222222,
              "#7201a8"
             ],
             [
              0.3333333333333333,
              "#9c179e"
             ],
             [
              0.4444444444444444,
              "#bd3786"
             ],
             [
              0.5555555555555556,
              "#d8576b"
             ],
             [
              0.6666666666666666,
              "#ed7953"
             ],
             [
              0.7777777777777778,
              "#fb9f3a"
             ],
             [
              0.8888888888888888,
              "#fdca26"
             ],
             [
              1,
              "#f0f921"
             ]
            ],
            "type": "heatmapgl"
           }
          ],
          "histogram": [
           {
            "marker": {
             "pattern": {
              "fillmode": "overlay",
              "size": 10,
              "solidity": 0.2
             }
            },
            "type": "histogram"
           }
          ],
          "histogram2d": [
           {
            "colorbar": {
             "outlinewidth": 0,
             "ticks": ""
            },
            "colorscale": [
             [
              0,
              "#0d0887"
             ],
             [
              0.1111111111111111,
              "#46039f"
             ],
             [
              0.2222222222222222,
              "#7201a8"
             ],
             [
              0.3333333333333333,
              "#9c179e"
             ],
             [
              0.4444444444444444,
              "#bd3786"
             ],
             [
              0.5555555555555556,
              "#d8576b"
             ],
             [
              0.6666666666666666,
              "#ed7953"
             ],
             [
              0.7777777777777778,
              "#fb9f3a"
             ],
             [
              0.8888888888888888,
              "#fdca26"
             ],
             [
              1,
              "#f0f921"
             ]
            ],
            "type": "histogram2d"
           }
          ],
          "histogram2dcontour": [
           {
            "colorbar": {
             "outlinewidth": 0,
             "ticks": ""
            },
            "colorscale": [
             [
              0,
              "#0d0887"
             ],
             [
              0.1111111111111111,
              "#46039f"
             ],
             [
              0.2222222222222222,
              "#7201a8"
             ],
             [
              0.3333333333333333,
              "#9c179e"
             ],
             [
              0.4444444444444444,
              "#bd3786"
             ],
             [
              0.5555555555555556,
              "#d8576b"
             ],
             [
              0.6666666666666666,
              "#ed7953"
             ],
             [
              0.7777777777777778,
              "#fb9f3a"
             ],
             [
              0.8888888888888888,
              "#fdca26"
             ],
             [
              1,
              "#f0f921"
             ]
            ],
            "type": "histogram2dcontour"
           }
          ],
          "mesh3d": [
           {
            "colorbar": {
             "outlinewidth": 0,
             "ticks": ""
            },
            "type": "mesh3d"
           }
          ],
          "parcoords": [
           {
            "line": {
             "colorbar": {
              "outlinewidth": 0,
              "ticks": ""
             }
            },
            "type": "parcoords"
           }
          ],
          "pie": [
           {
            "automargin": true,
            "type": "pie"
           }
          ],
          "scatter": [
           {
            "marker": {
             "colorbar": {
              "outlinewidth": 0,
              "ticks": ""
             }
            },
            "type": "scatter"
           }
          ],
          "scatter3d": [
           {
            "line": {
             "colorbar": {
              "outlinewidth": 0,
              "ticks": ""
             }
            },
            "marker": {
             "colorbar": {
              "outlinewidth": 0,
              "ticks": ""
             }
            },
            "type": "scatter3d"
           }
          ],
          "scattercarpet": [
           {
            "marker": {
             "colorbar": {
              "outlinewidth": 0,
              "ticks": ""
             }
            },
            "type": "scattercarpet"
           }
          ],
          "scattergeo": [
           {
            "marker": {
             "colorbar": {
              "outlinewidth": 0,
              "ticks": ""
             }
            },
            "type": "scattergeo"
           }
          ],
          "scattergl": [
           {
            "marker": {
             "colorbar": {
              "outlinewidth": 0,
              "ticks": ""
             }
            },
            "type": "scattergl"
           }
          ],
          "scattermapbox": [
           {
            "marker": {
             "colorbar": {
              "outlinewidth": 0,
              "ticks": ""
             }
            },
            "type": "scattermapbox"
           }
          ],
          "scatterpolar": [
           {
            "marker": {
             "colorbar": {
              "outlinewidth": 0,
              "ticks": ""
             }
            },
            "type": "scatterpolar"
           }
          ],
          "scatterpolargl": [
           {
            "marker": {
             "colorbar": {
              "outlinewidth": 0,
              "ticks": ""
             }
            },
            "type": "scatterpolargl"
           }
          ],
          "scatterternary": [
           {
            "marker": {
             "colorbar": {
              "outlinewidth": 0,
              "ticks": ""
             }
            },
            "type": "scatterternary"
           }
          ],
          "surface": [
           {
            "colorbar": {
             "outlinewidth": 0,
             "ticks": ""
            },
            "colorscale": [
             [
              0,
              "#0d0887"
             ],
             [
              0.1111111111111111,
              "#46039f"
             ],
             [
              0.2222222222222222,
              "#7201a8"
             ],
             [
              0.3333333333333333,
              "#9c179e"
             ],
             [
              0.4444444444444444,
              "#bd3786"
             ],
             [
              0.5555555555555556,
              "#d8576b"
             ],
             [
              0.6666666666666666,
              "#ed7953"
             ],
             [
              0.7777777777777778,
              "#fb9f3a"
             ],
             [
              0.8888888888888888,
              "#fdca26"
             ],
             [
              1,
              "#f0f921"
             ]
            ],
            "type": "surface"
           }
          ],
          "table": [
           {
            "cells": {
             "fill": {
              "color": "#EBF0F8"
             },
             "line": {
              "color": "white"
             }
            },
            "header": {
             "fill": {
              "color": "#C8D4E3"
             },
             "line": {
              "color": "white"
             }
            },
            "type": "table"
           }
          ]
         },
         "layout": {
          "annotationdefaults": {
           "arrowcolor": "#2a3f5f",
           "arrowhead": 0,
           "arrowwidth": 1
          },
          "autotypenumbers": "strict",
          "coloraxis": {
           "colorbar": {
            "outlinewidth": 0,
            "ticks": ""
           }
          },
          "colorscale": {
           "diverging": [
            [
             0,
             "#8e0152"
            ],
            [
             0.1,
             "#c51b7d"
            ],
            [
             0.2,
             "#de77ae"
            ],
            [
             0.3,
             "#f1b6da"
            ],
            [
             0.4,
             "#fde0ef"
            ],
            [
             0.5,
             "#f7f7f7"
            ],
            [
             0.6,
             "#e6f5d0"
            ],
            [
             0.7,
             "#b8e186"
            ],
            [
             0.8,
             "#7fbc41"
            ],
            [
             0.9,
             "#4d9221"
            ],
            [
             1,
             "#276419"
            ]
           ],
           "sequential": [
            [
             0,
             "#0d0887"
            ],
            [
             0.1111111111111111,
             "#46039f"
            ],
            [
             0.2222222222222222,
             "#7201a8"
            ],
            [
             0.3333333333333333,
             "#9c179e"
            ],
            [
             0.4444444444444444,
             "#bd3786"
            ],
            [
             0.5555555555555556,
             "#d8576b"
            ],
            [
             0.6666666666666666,
             "#ed7953"
            ],
            [
             0.7777777777777778,
             "#fb9f3a"
            ],
            [
             0.8888888888888888,
             "#fdca26"
            ],
            [
             1,
             "#f0f921"
            ]
           ],
           "sequentialminus": [
            [
             0,
             "#0d0887"
            ],
            [
             0.1111111111111111,
             "#46039f"
            ],
            [
             0.2222222222222222,
             "#7201a8"
            ],
            [
             0.3333333333333333,
             "#9c179e"
            ],
            [
             0.4444444444444444,
             "#bd3786"
            ],
            [
             0.5555555555555556,
             "#d8576b"
            ],
            [
             0.6666666666666666,
             "#ed7953"
            ],
            [
             0.7777777777777778,
             "#fb9f3a"
            ],
            [
             0.8888888888888888,
             "#fdca26"
            ],
            [
             1,
             "#f0f921"
            ]
           ]
          },
          "colorway": [
           "#636efa",
           "#EF553B",
           "#00cc96",
           "#ab63fa",
           "#FFA15A",
           "#19d3f3",
           "#FF6692",
           "#B6E880",
           "#FF97FF",
           "#FECB52"
          ],
          "font": {
           "color": "#2a3f5f"
          },
          "geo": {
           "bgcolor": "white",
           "lakecolor": "white",
           "landcolor": "#E5ECF6",
           "showlakes": true,
           "showland": true,
           "subunitcolor": "white"
          },
          "hoverlabel": {
           "align": "left"
          },
          "hovermode": "closest",
          "mapbox": {
           "style": "light"
          },
          "paper_bgcolor": "white",
          "plot_bgcolor": "#E5ECF6",
          "polar": {
           "angularaxis": {
            "gridcolor": "white",
            "linecolor": "white",
            "ticks": ""
           },
           "bgcolor": "#E5ECF6",
           "radialaxis": {
            "gridcolor": "white",
            "linecolor": "white",
            "ticks": ""
           }
          },
          "scene": {
           "xaxis": {
            "backgroundcolor": "#E5ECF6",
            "gridcolor": "white",
            "gridwidth": 2,
            "linecolor": "white",
            "showbackground": true,
            "ticks": "",
            "zerolinecolor": "white"
           },
           "yaxis": {
            "backgroundcolor": "#E5ECF6",
            "gridcolor": "white",
            "gridwidth": 2,
            "linecolor": "white",
            "showbackground": true,
            "ticks": "",
            "zerolinecolor": "white"
           },
           "zaxis": {
            "backgroundcolor": "#E5ECF6",
            "gridcolor": "white",
            "gridwidth": 2,
            "linecolor": "white",
            "showbackground": true,
            "ticks": "",
            "zerolinecolor": "white"
           }
          },
          "shapedefaults": {
           "line": {
            "color": "#2a3f5f"
           }
          },
          "ternary": {
           "aaxis": {
            "gridcolor": "white",
            "linecolor": "white",
            "ticks": ""
           },
           "baxis": {
            "gridcolor": "white",
            "linecolor": "white",
            "ticks": ""
           },
           "bgcolor": "#E5ECF6",
           "caxis": {
            "gridcolor": "white",
            "linecolor": "white",
            "ticks": ""
           }
          },
          "title": {
           "x": 0.05
          },
          "xaxis": {
           "automargin": true,
           "gridcolor": "white",
           "linecolor": "white",
           "ticks": "",
           "title": {
            "standoff": 15
           },
           "zerolinecolor": "white",
           "zerolinewidth": 2
          },
          "yaxis": {
           "automargin": true,
           "gridcolor": "white",
           "linecolor": "white",
           "ticks": "",
           "title": {
            "standoff": 15
           },
           "zerolinecolor": "white",
           "zerolinewidth": 2
          }
         }
        },
        "title": {
         "text": "Total Output by Instructor",
         "x": 0.5
        },
        "width": 1600,
        "xaxis": {
         "anchor": "y",
         "domain": [
          0,
          1
         ],
         "title": {
          "text": "Instructor Name"
         }
        },
        "yaxis": {
         "anchor": "x",
         "domain": [
          0,
          1
         ],
         "title": {
          "text": "count"
         }
        }
       }
      }
     },
     "metadata": {},
     "output_type": "display_data"
    }
   ],
   "source": [
    "def get_instructors_by_discipline_chart(df: pd.DataFrame) -> px.bar:\n",
    "    \"\"\"\n",
    "    Returns a bar chart of the number of workouts per instructor per fitness discipline.\n",
    "\n",
    "    Parameters\n",
    "    ----------\n",
    "        df : pd.DataFrame The dataframe to be plotted.\n",
    "    \n",
    "    Returns\n",
    "    -------\n",
    "        px.bar: The bar chart to be plotted.\n",
    "    \"\"\"\n",
    "    df['count'] = df['Workout Timestamp']\n",
    "    df = df.groupby(['Instructor Name','Fitness Discipline'])['count'].agg('count').reset_index()\n",
    "    chart = px.bar(df, x=\"Instructor Name\", y=\"count\", color=\"Fitness Discipline\", title=\"Total Workouts by Instructor\", width=1600)\n",
    "    chart.update_layout(\n",
    "        title_x=0.5\n",
    "    )\n",
    "\n",
    "    return chart\n",
    "\n",
    "get_instructors_by_discipline_chart(df)\n"
   ]
  },
  {
   "cell_type": "code",
   "execution_count": 27,
   "metadata": {},
   "outputs": [
    {
     "name": "stdout",
     "output_type": "stream",
     "text": [
      "Dash app running on http://127.0.0.1:8050/\n"
     ]
    },
    {
     "name": "stderr",
     "output_type": "stream",
     "text": [
      "c:\\Users\\jrami\\VSCodeProjects\\dash-presentation\\venv\\lib\\site-packages\\jupyter_dash\\jupyter_app.py:139: UserWarning:\n",
      "\n",
      "The 'environ['werkzeug.server.shutdown']' function is deprecated and will be removed in Werkzeug 2.1.\n",
      "\n"
     ]
    }
   ],
   "source": [
    "\n",
    "def create_instructor_card(df: pd.DataFrame) -> dbc.Card:\n",
    "    \"\"\"\n",
    "    Returns a dbc card with a title, body text and bar chart of\n",
    "    the number of workouts per instructor per fitness discipline.\n",
    "\n",
    "    Parameters\n",
    "    ----------\n",
    "        df : pd.DataFrame The dataframe to be plotted.\n",
    "    \n",
    "    Returns\n",
    "    -------\n",
    "        dbc.Card: Card with header, body text and plot.\n",
    "    \"\"\"\n",
    "    return dbc.Card([\n",
    "        dbc.CardBody([\n",
    "            html.Center(html.H1(\"Instructor by Fitness Discipline\", className='card-title')),\n",
    "            dcc.Graph(\n",
    "                id='instructor-by-discipline-chart',\n",
    "                figure=get_instructors_by_discipline_chart(df),\n",
    "                style={\n",
    "                    \"margin-top\": \"1rem\",\n",
    "                    \"margin-bottom\": \"1rem\"\n",
    "                }\n",
    "            )\n",
    "        ])\n",
    "    ],\n",
    "        color='info',\n",
    "        outline=True,\n",
    "        style={\n",
    "            \"margin-top\": \"1rem\",\n",
    "            \"margin-left\": \"1rem\",\n",
    "            \"margin-bottom\": \"1rem\"\n",
    "        }\n",
    "    )\n",
    "\n",
    "app.layout = html.Div(\n",
    "    children=[\n",
    "        dbc.Row([\n",
    "                html.Center(titleCard),\n",
    "                ],\n",
    "                justify=\"center\",\n",
    "                style={\n",
    "                    'margin-left': '0.5rem'\n",
    "                }\n",
    "        ),\n",
    "        dbc.Row([\n",
    "            create_calories_and_output_card(df),\n",
    "            create_discipline_card(df)\n",
    "        ]),\n",
    "        dbc.Row([\n",
    "            dbc.Col([\n",
    "                create_instructor_card(df)\n",
    "            ])\n",
    "        ])\n",
    "    ]\n",
    ")\n",
    "\n",
    "app.run_server(debug=True)\n"
   ]
  }
 ],
 "metadata": {
  "interpreter": {
   "hash": "01309d9369fda55ba7fc8120cca824fed112355aa9df8d389e45208860edfdd3"
  },
  "kernelspec": {
   "display_name": "Python 3.9.10 ('venv': venv)",
   "language": "python",
   "name": "python3"
  },
  "language_info": {
   "codemirror_mode": {
    "name": "ipython",
    "version": 3
   },
   "file_extension": ".py",
   "mimetype": "text/x-python",
   "name": "python",
   "nbconvert_exporter": "python",
   "pygments_lexer": "ipython3",
   "version": "3.9.10"
  },
  "orig_nbformat": 4
 },
 "nbformat": 4,
 "nbformat_minor": 2
}
